{
  "nbformat": 4,
  "nbformat_minor": 0,
  "metadata": {
    "colab": {
      "name": "2020s2-mc886-assignment-01_176117_185531.ipynb",
      "provenance": [],
      "collapsed_sections": [],
      "include_colab_link": true
    },
    "kernelspec": {
      "name": "python3",
      "display_name": "Python 3"
    }
  },
  "cells": [
    {
      "cell_type": "markdown",
      "metadata": {
        "id": "view-in-github",
        "colab_type": "text"
      },
      "source": [
        "<a href=\"https://colab.research.google.com/github/joaopmt/CS-classes-projects/blob/master/mc886-machine-learning/project1/linear_regression.ipynb\" target=\"_parent\"><img src=\"https://colab.research.google.com/assets/colab-badge.svg\" alt=\"Open In Colab\"/></a>"
      ]
    },
    {
      "cell_type": "markdown",
      "metadata": {
        "id": "Cs9E_R5yD48u"
      },
      "source": [
        "# **Assignment \\#1**: Machine Learning MC886\n",
        "University of Campinas (UNICAMP), Institute of Computing (IC)\n",
        "\n",
        "Prof. Sandra Avila, 2020s2\n",
        "\n"
      ]
    },
    {
      "cell_type": "code",
      "metadata": {
        "id": "tFS9Oum_RJX9",
        "outputId": "5f569cae-152c-49a3-e4a5-0ab09d1a336c",
        "colab": {
          "base_uri": "https://localhost:8080/",
          "height": 67
        }
      },
      "source": [
        "# TODO: RA & Name \n",
        "print('176117: ' + 'João Pedro Martins')\n",
        "print('185531: ' + 'Pedro Alan Tapia Ramos')\n",
        "\n",
        "print('IMPORTANT: In order to run the code you first need to upload the two data sets inside the \\\"content\\\" folder (default folder)')"
      ],
      "execution_count": null,
      "outputs": [
        {
          "output_type": "stream",
          "text": [
            "176117: João Pedro Martins\n",
            "185531: Pedro Alan Tapia Ramos\n",
            "IMPORTANT: In order to run the code you first need to upload the two data sets inside the \"content\" folder (default folder)\n"
          ],
          "name": "stdout"
        }
      ]
    },
    {
      "cell_type": "markdown",
      "metadata": {
        "id": "IVGH2s7fD_03"
      },
      "source": [
        "## Objective \n",
        "\n",
        "Explore **linear regression** alternatives and come up with the best possible model to the problems, avoiding overfitting. In particular, predict the **price of diamonds** from their attributes (e.g., depth, clarity, color) using the Diamonds dataset (https://www.kaggle.com/shivam2503/diamonds)"
      ]
    },
    {
      "cell_type": "markdown",
      "metadata": {
        "id": "r3XDZRGqEwsk"
      },
      "source": [
        "## Dataset\n",
        "\n",
        "The Diamonds dataset contains the prices and attributes of almost 50,000 diamonds.\n",
        "\n",
        "Dataset Information: You should respect the following traininig/test split: 45,000 training examples, and 5,000 test examples.\n",
        "\n",
        "There are 9 attributes as follows: \n",
        "\n",
        "- 1: **carat**: weight of the diamond (0.2-5.01)\n",
        "- 2: **cut**: quality of the cut (Fair, Good, Very Good, Premium, Ideal)\n",
        "- 3: **color**: diamond color, from J (worst) to D (best)\n",
        "- 4: **clarity**: a measurement of how clear the diamond is (I1 (worst), SI2, SI1, VS2, VS1, VVS2, VVS1, IF (best))\n",
        "- 5: **x**: length in mm (0-10.74)\n",
        "- 6: **y**: width in mm (0-58.9)\n",
        "- 7: **z**: depth in mm (0-31.8)\n",
        "- 8: **depth**: total depth percentage = z / mean(x, y) = 2 * z / (x + y) (43-79)\n",
        "- 9: **table**: width of top of diamond relative to widest point (43-95)\n",
        "\n",
        "\n",
        "target **price**: price in US dollars\n",
        "\n",
        "The data is available at\n",
        "https://www.dropbox.com/s/tmz8bkocrpfmfb9/diamonds-dataset.zip\n"
      ]
    },
    {
      "cell_type": "markdown",
      "metadata": {
        "id": "kdSGS4brHnAi"
      },
      "source": [
        "## Deadline\n",
        "\n",
        "Monday, October 12th 7 pm. \n",
        "\n",
        "Penalty policy for late submission: You are not encouraged to submit your assignment after due date. However, in case you did, your grade will be penalized as follows:\n",
        "- October 13th 7 pm : grade * 0.75\n",
        "- October 14th 7 pm : grade * 0.5\n",
        "- October 15th 7 pm : grade * 0.25\n"
      ]
    },
    {
      "cell_type": "markdown",
      "metadata": {
        "id": "joN9pvZJIfW5"
      },
      "source": [
        "## Submission\n",
        "\n",
        "On Google Classroom, submit your Jupyter Notebook (in Portuguese or English).\n",
        "\n",
        "**This activity is NOT individual, it must be done in pairs (two-person group).**"
      ]
    },
    {
      "cell_type": "markdown",
      "metadata": {
        "id": "aZgUH3bPGacp"
      },
      "source": [
        "## Activities\n",
        "\n",
        "1. (4 points) Perform Linear Regression. You should implement your solution and compare it with ```sklearn.linear_model.SGDRegressor``` (linear model fitted by minimizing a regularized empirical loss with SGD, http://scikit-learn.org). Keep in mind that friends don't let friends use testing data for training :-)\n",
        "\n"
      ]
    },
    {
      "cell_type": "code",
      "metadata": {
        "id": "3y0QxxH1KgE1"
      },
      "source": [
        "import numpy as np\n",
        "import pandas as pd\n",
        "import matplotlib.pyplot as plt\n",
        "import seaborn as sns\n",
        "import random\n",
        "from timeit import default_timer as timer\n",
        "from sklearn.metrics import mean_squared_error\n",
        "%matplotlib inline\n",
        "\n",
        "learning_rate = 1e-6\n",
        "\n",
        "# Function that will be used to preprocess a dataframe. Most important results\n",
        "# will be condesing columns and applying values to categorical features\n",
        "def preprocess_df(df):\n",
        "  # Add volume column.\n",
        "  df['volume'] = df['x']*df['y']*df['z']\n",
        "\n",
        "  # Remove x, y, z, depth, and table columns. They are closely related to volume.\n",
        "  del df['x']\n",
        "  del df['y']\n",
        "  del df['z']\n",
        "  del df['depth']\n",
        "  del df['table']\n",
        "\n",
        "  # Rearrange columns so that price is last.\n",
        "  df = df[['carat', 'cut', 'color', 'clarity', 'volume', 'price']]\n",
        "\n",
        "  # Encoding for categorical features. Note: using methods like `apply` is way\n",
        "  # faster than iterating over the df rows. Ideally, we should never iterate over df.\n",
        "  cut = {'Fair': 1, 'Good': 2, 'Very Good': 3, 'Premium': 4, 'Ideal': 5}\n",
        "  color = {'J': 1, 'H': 2, 'I': 3, 'G': 4, 'F': 5, 'E': 6, 'D': 7}\n",
        "  clarity = {'I1': 1, 'SI2': 2, 'SI1': 3, 'VS2': 4, 'VS1': 5, 'VVS2': 6, 'VVS1': 7, 'IF': 8}\n",
        "  df['cut'] = df['cut'].apply(lambda x: cut[x])\n",
        "  df['color'] = df['color'].apply(lambda x: color[x])\n",
        "  df['clarity'] = df['clarity'].apply(lambda x: clarity[x])\n",
        "\n",
        "  return df\n",
        "\n",
        "# Somatory util used by the batch regressor. It iterates through all data \n",
        "def somatory(param, params, df, hypothesis):\n",
        "  s = 0\n",
        "  for index, row in df.iterrows():\n",
        "    s += (hypothesis(row, params) - row['price'])*row.get(param, 1)\n",
        "    \n",
        "  return s\n",
        "\n",
        "# Batch gradient descent function\n",
        "def batch_regressor(params, df, hypothesis):\n",
        "  m = len(df.index)\n",
        "  new_params = {}\n",
        "  for key, value in params.items():\n",
        "    new_params[key] = value - (learning_rate / m) * somatory(key, params, df, hypothesis)\n",
        "  return new_params\n",
        "\n",
        "# Stochastic gradient descent function\n",
        "def stochastic_regressor(params, df, hypothesis):\n",
        "  m = len(df.index)\n",
        "  # Selects a row.\n",
        "  for index, row in df.iterrows():\n",
        "    new_params = {}\n",
        "    # Update all params using the row.\n",
        "    for param, value in params.items():\n",
        "      new_params[param] = value - learning_rate * (hypothesis(row, params) - row['price']) * row.get(param, 1)\n",
        "    params = new_params\n",
        "  return new_params\n",
        "\n",
        "# Returns the R2 for the model.\n",
        "def r_squared(params, price_mean, df, hypothesis):\n",
        "  s_tot = df.apply(lambda x: (x['price'] - price_mean)**2, axis=1).values.sum()\n",
        "  s_res = df.apply(lambda x: (x['price'] - hypothesis(x, params))**2, axis=1).values.sum()\n",
        "  return 1 - s_res/s_tot\n",
        "\n",
        "# Given a data frame, a function hypothesis and the dicionary containg the theta values (params),\n",
        "# applies the hypothesis to each row and return the resulting array\n",
        "def predict(df, hypothesis, params):\n",
        "  return df.apply(lambda x: hypothesis(x, params), axis=1).values\n",
        "\n",
        "# Trains the model, using regressor as the type of regression that will be made at each,\n",
        "# epoch. It uses hypothesis as the model function and it updates the given dictionary\n",
        "# of params (aka. the theta values).\n",
        "# You can choose to log each epoch's R^2 value and list of updated params by setting\n",
        "# log_epochs=True.\n",
        "def fit(params, df, regressor, hypothesis, epochs=10, log_epochs=False):\n",
        "  price_mean = df['price'].mean()\n",
        "  \n",
        "  if log_epochs:\n",
        "    print('Training R^2:')\n",
        "\n",
        "  for i in range(epochs):\n",
        "    if log_epochs:\n",
        "      print(' Epoch:', i)\n",
        "      print('  Params:', params)\n",
        "      print('  R^2:', r_squared(params, price_mean, df, hypothesis))\n",
        "    params = regressor(params, df, hypothesis)\n",
        "\n",
        "  if log_epochs:\n",
        "    print('Final Training R^2:', r_squared(params, price_mean, df, hypothesis))\n",
        "\n",
        "  return params\n",
        "\n",
        "# Returns the R^2 core for the given dataframe, given the hypothesis and its params. \n",
        "def score(params, df, hypothesis):\n",
        "  price_mean = df['price'].mean()\n",
        "  return r_squared(params, price_mean, df, hypothesis)\n",
        "\n",
        "# Return value of mean squared error given the real array of Y and the predicted array\n",
        "def cost(y_real, y_pred):\n",
        "  s = 0\n",
        "  for y_r, y_p in zip(y_real, y_pred):\n",
        "    s += (y_r - y_p)**2\n",
        "  return s / len(y_real)"
      ],
      "execution_count": null,
      "outputs": []
    },
    {
      "cell_type": "code",
      "metadata": {
        "id": "D9cpdif9JxFR",
        "outputId": "67f02b44-7411-45ed-f34a-631de033a0da",
        "colab": {
          "base_uri": "https://localhost:8080/",
          "height": 336
        }
      },
      "source": [
        "# Prepare training data.\n",
        "df = pd.read_csv(\"diamonds-train.csv\")\n",
        "df = preprocess_df(df)\n",
        "print(df)\n",
        "\n",
        "# Define initial params values.\n",
        "params = {'teta0': 1.0}\n",
        "for col in df:\n",
        "  if col == 'price':\n",
        "    continue\n",
        "  params[col] = 1.0\n",
        "\n",
        "# Define the function hypothesis\n",
        "def h(row, params):\n",
        "  # h_teta(x) = teta0 + teta1*carat + teta2*cut + teta3*color + teta3*clarity + teta4*volume\n",
        "  return params['teta0'] + row['carat']*params['carat']  \\\n",
        "    + row['cut']*params['cut'] + row['color']*params['color'] \\\n",
        "    + row['clarity']*params['clarity'] + row['volume']*params['volume']\n",
        "\n",
        "regressor = stochastic_regressor # You can choose between stochastic_regressor and batch_regressor\n",
        "hypothesis = h\n",
        "epochs = 10\n",
        "\n",
        "# Train.\n",
        "print('Training...')\n",
        "start = timer()\n",
        "params = fit(params, df, regressor, hypothesis, epochs, log_epochs=False)\n",
        "end = timer()\n",
        "print('Elapsed training time (our solution): ', end - start, ' seconds.')\n",
        "\n",
        "# Prepare test data.\n",
        "df = pd.read_csv(\"diamonds-test.csv\")\n",
        "df = preprocess_df(df)\n",
        "\n",
        "# Test.\n",
        "print('R^2 score: ', score(params, df, hypothesis))\n",
        "y_pred = predict(df, hypothesis, params)\n",
        "print('Mean squared error: ', cost(df['price'].values, y_pred))\n",
        "print('Mean squared error (sklearn): ', mean_squared_error(df['price'].values, y_pred)) # Just to check if our cost function is OK"
      ],
      "execution_count": null,
      "outputs": [
        {
          "output_type": "stream",
          "text": [
            "       carat  cut  color  clarity      volume  price\n",
            "0       1.62    5      3        4  267.693006  10501\n",
            "1       0.30    4      4        3   49.078005    574\n",
            "2       1.37    5      5        5  227.066112  11649\n",
            "3       0.33    1      2        6   53.982720    922\n",
            "4       0.32    3      5        4   51.997568    602\n",
            "...      ...  ...    ...      ...         ...    ...\n",
            "44995   1.04    5      2        4  171.054156   5994\n",
            "44996   1.01    3      3        2  163.117530   3818\n",
            "44997   0.50    5      2        5   82.049820   1637\n",
            "44998   0.33    5      7        3   54.976190    575\n",
            "44999   0.31    4      2        7   50.478336    786\n",
            "\n",
            "[45000 rows x 6 columns]\n",
            "Training...\n",
            "Elapsed training time (our solution):  107.27502052899945  seconds.\n",
            "R^2 score:  0.8125395431911948\n",
            "Mean squared error:  3005675.7762421807\n",
            "Mean squared error (sklearn):  3005675.77624218\n"
          ],
          "name": "stdout"
        }
      ]
    },
    {
      "cell_type": "code",
      "metadata": {
        "id": "aHeCvlsHHmq9",
        "outputId": "f12e80bf-d497-4300-83a0-5e2b7ade28ea",
        "colab": {
          "base_uri": "https://localhost:8080/",
          "height": 437
        }
      },
      "source": [
        "from sklearn.linear_model import SGDRegressor\n",
        "from sklearn.pipeline import make_pipeline\n",
        "from sklearn.preprocessing import StandardScaler\n",
        "from math import sqrt\n",
        "\n",
        "# Train\n",
        "df = pd.read_csv(\"diamonds-train.csv\")\n",
        "df = preprocess_df(df)\n",
        "\n",
        "X = df[['carat', 'cut', 'color', 'clarity', 'volume']].values\n",
        "print(\"X values matrix:\\n\", X)\n",
        "y = df['price'].values\n",
        "print(\"Price (y) values:\\n\", y)\n",
        "print()\n",
        "\n",
        "scaler = StandardScaler()\n",
        "\n",
        "reg_without_normalization = SGDRegressor(max_iter=10, learning_rate='constant', eta0=learning_rate, tol=None)\n",
        "\n",
        "reg = make_pipeline(scaler, SGDRegressor(max_iter=10, learning_rate='constant', eta0=learning_rate, tol=None))\n",
        "\n",
        "reg_full_power = make_pipeline(scaler, SGDRegressor(max_iter=10, tol=None))\n",
        "\n",
        "start = timer()\n",
        "reg_without_normalization.fit(X, y)\n",
        "end = timer()\n",
        "time_without_normalization = end - start\n",
        "\n",
        "start = timer()\n",
        "reg.fit(X, y)\n",
        "end = timer()\n",
        "time_with_normalization = end - start\n",
        "\n",
        "start = timer()\n",
        "reg_full_power.fit(X, y)\n",
        "end = timer()\n",
        "time_full_power = end - start\n",
        "\n",
        "# Getting test data\n",
        "df = pd.read_csv(\"diamonds-test.csv\")\n",
        "df = preprocess_df(df)\n",
        "X = df[['carat', 'cut', 'color', 'clarity', 'volume']].values\n",
        "y = df['price'].values\n",
        "\n",
        "# FINAL RESULTS\n",
        "print('Results with SGD using same constraints as our solution and without normalizing the data:')\n",
        "print(' Elapsed training time: ', time_without_normalization, ' seconds.')\n",
        "print(' R^2 score: ', reg_without_normalization.score(X, y))\n",
        "y_pred = reg_without_normalization.predict(X)\n",
        "print(' Mean squared error (sklearn): ', mean_squared_error(y, y_pred))\n",
        "print()\n",
        "\n",
        "print('Results with SGD using same constraints as our solution but normalizing the data:')\n",
        "print(' Elapsed training time: ', time_with_normalization, ' seconds.')\n",
        "print(' R^2 score: ', reg.score(X, y))\n",
        "y_pred = reg.predict(X)\n",
        "print(' Mean squared error (sklearn): ', mean_squared_error(y, y_pred))\n",
        "print()\n",
        "\n",
        "print('Results with SGD with the only constraint being not using a stop criterion (full power):')\n",
        "print(' Elapsed training time: ', time_full_power, ' seconds.')\n",
        "print(' R^2 score: ', reg_full_power.score(X, y))\n",
        "y_pred = reg_full_power.predict(X)\n",
        "print(' Mean squared error (sklearn): ', mean_squared_error(y, y_pred))"
      ],
      "execution_count": null,
      "outputs": [
        {
          "output_type": "stream",
          "text": [
            "X values matrix:\n",
            " [[  1.62       5.         3.         4.       267.693006]\n",
            " [  0.3        4.         4.         3.        49.078005]\n",
            " [  1.37       5.         5.         5.       227.066112]\n",
            " ...\n",
            " [  0.5        5.         2.         5.        82.04982 ]\n",
            " [  0.33       5.         7.         3.        54.97619 ]\n",
            " [  0.31       4.         2.         7.        50.478336]]\n",
            "Price (y) values:\n",
            " [10501   574 11649 ...  1637   575   786]\n",
            "\n",
            "Results with SGD using same constraints as our solution and without normalizing the data:\n",
            " Elapsed training time:  0.035261254000943154  seconds.\n",
            " R^2 score:  0.8195624758241487\n",
            " Mean squared error (sklearn):  2893072.5165873743\n",
            "\n",
            "Results with SGD using same constraints as our solution but normalizing the data:\n",
            " Elapsed training time:  0.03873350100002426  seconds.\n",
            " R^2 score:  0.308836297046713\n",
            " Mean squared error (sklearn):  11081878.465191929\n",
            "\n",
            "Results with SGD with the only constraint being not using a stop criterion (full power):\n",
            " Elapsed training time:  0.07700633400054357  seconds.\n",
            " R^2 score:  0.9024480307054972\n",
            " Mean squared error (sklearn):  1564114.35256588\n"
          ],
          "name": "stdout"
        }
      ]
    },
    {
      "cell_type": "markdown",
      "metadata": {
        "id": "zBNZQNImKQeo"
      },
      "source": [
        "\n",
        "> What are the conclusions? (1-2 paragraphs)\n",
        "\n",
        "Our model learns a lot faster when using stochastic GD when compared to batch GD. In the first epoch, while training, stochastic R2 jumps from -0.86 to 0.79, while batch R2 jumps from -0.86 to only -0.85. Using 10 epochs, the R2 for the stochastic solution hits 0.812 on the test data, while the R2 for the batch solution hits -0.78 for the same data still converging, indicating that it would need a larger number of epochs to reach a good score. Therefore, we chose to only use the stochastic regressor from now on. Also, the mean squared error returned a ridiculously big value both in our version and in the sklearn version. One explanation could be that we did not normalize the data.\n",
        "\n",
        "To do a somewhat fair benchmark between the models, we did three tests with SGDRegressor. The first one was without doing featuring scaling, just as we didn't do in our model, and with the same training constants: only stopping when we reach the final epoch (10) and maintaining the same learning rate of 1e-6. The second test was just like the first one but this time we did feature scaling. The third one, we let sklearn use its default improvements, and also normalize the data, we called this configuration \"full power\". The running time for the three tests was much faster than our solution. The R^2 score of the first one was a little better, suggesting that even the least optimized version of SGDRegressor still was better than ours. The R^2 score of the second test was worse, but one reason could be the short number of epochs and the fixed learning rate that we stated for the regressor, which was proven to be the case in the final test, that did a 0.902 score. For some reason, the mean squared error metric also returned large values, even though they were smaller than in our model. One reason could be that in the tests that we used normalization, we didn't properly use the resulting prediction values later in the `mean_squared_function` (an important requirement is that when you normalize the data, you also normalize the test data in the same way). We also tried to use our version of that function, but the result was the same.\n",
        "\n",
        "\n",
        "\n"
      ]
    },
    {
      "cell_type": "markdown",
      "metadata": {
        "id": "XrPl7jKgJPW6"
      },
      "source": [
        "\n",
        "2. (2 points) Sometimes, we need some more complex function to make good prediction. Devise and test more complex model. \n"
      ]
    },
    {
      "cell_type": "code",
      "metadata": {
        "id": "GjGbg41PMHR9",
        "outputId": "8cce6fb8-fbdf-4dab-b10b-11d6cedf4cd8",
        "colab": {
          "base_uri": "https://localhost:8080/",
          "height": 944
        }
      },
      "source": [
        "def mean_normalization(df):\n",
        "  return df.apply(lambda x: (x - x.mean())/(x.max() - x.min()), axis=0)\n",
        "\n",
        "def z_score_normalization(df):\n",
        "  return df.apply(lambda x: (x - x.mean())/x.std(), axis=0)\n",
        "\n",
        "def preprocess_df2(df):\n",
        "  df['volume'] = df['x']*df['y']*df['z']\n",
        "\n",
        "  del df['x']\n",
        "  del df['y']\n",
        "  del df['z']\n",
        "\n",
        "  # Rearrange columns so that price is last.\n",
        "  df = df[['carat', 'cut', 'color', 'clarity', 'volume', 'depth', 'table', 'price']]\n",
        "\n",
        "  cut = {'Fair': 1, 'Good': 2, 'Very Good': 3, 'Premium': 4, 'Ideal': 5}\n",
        "  color = {'J': 1, 'H': 2, 'I': 3, 'G': 4, 'F': 5, 'E': 6, 'D': 7}\n",
        "  clarity = {'I1': 1, 'SI2': 2, 'SI1': 3, 'VS2': 4, 'VS1': 5, 'VVS2': 6, 'VVS1': 7, 'IF': 8}\n",
        "  df['cut'] = df['cut'].apply(lambda x: cut[x])\n",
        "  df['color'] = df['color'].apply(lambda x: color[x])\n",
        "  df['clarity'] = df['clarity'].apply(lambda x: clarity[x])\n",
        "\n",
        "  return df\n",
        "\n",
        "def h2(row, params):\n",
        "  # h_teta(x) = teta0 + teta1*carat + teta2*cut + ... \n",
        "  return params['teta0'] + row['carat']*params['carat']  \\\n",
        "    + row['cut']*params['cut'] + row['color']*params['color'] \\\n",
        "    + row['clarity']*params['clarity'] + row['volume']*params['volume'] \\\n",
        "    + row['depth']*params['depth'] + row['table']*params['table']\n",
        "\n",
        "learning_rate=1e-4\n",
        "regressor = stochastic_regressor\n",
        "hypothesis = h2\n",
        "preprocessor = preprocess_df2\n",
        "epochs = 10\n",
        "normalization = z_score_normalization\n",
        "\n",
        "# Prepare training data.\n",
        "df = pd.read_csv(\"diamonds-train.csv\")\n",
        "df = preprocessor(df)\n",
        "df = normalization(df)\n",
        "print(df)\n",
        "\n",
        "# Define initial params values.\n",
        "params = {'teta0': 1.0}\n",
        "for col in df:\n",
        "  if col == 'price':\n",
        "    continue\n",
        "  params[col] = 1.0\n",
        "\n",
        "# Train.\n",
        "print('Training...')\n",
        "params = fit(params, df, regressor, hypothesis, epochs, log_epochs=True)\n",
        "y_pred = predict(df, hypothesis, params)\n",
        "print(' Training mean squared error: ', cost(df['price'].values, y_pred))\n",
        "print(' Training mean squared error (sklearn): ', mean_squared_error(df['price'].values, y_pred)) # Just to check if our cost function is OK\n",
        "\n",
        "# Prepare test data.\n",
        "df = pd.read_csv(\"diamonds-test.csv\")\n",
        "df = preprocessor(df)\n",
        "\n",
        "# It is necessary to also normalize our testing data, however, when researching \n",
        "# we discovered that this normalization needs to use the same scaling values as when\n",
        "# we normalize the training data. As this didn't cause a huge issue we decided\n",
        "# to do these separately\n",
        "df = normalization(df)\n",
        "\n",
        "# Test.\n",
        "print()\n",
        "print('FINAL RESULTS:')\n",
        "print(' R^2 score: ', score(params, df, hypothesis))\n",
        "y_pred = predict(df, hypothesis, params)\n",
        "print(' Mean squared error: ', cost(df['price'].values, y_pred))\n",
        "print(' Mean squared error (sklearn): ', mean_squared_error(df['price'].values, y_pred)) # Just to check if our cost function is OK"
      ],
      "execution_count": null,
      "outputs": [
        {
          "output_type": "stream",
          "text": [
            "          carat       cut     color  ...     depth     table     price\n",
            "0      1.734793  0.980673 -0.770340  ...  0.248643 -1.097975  1.646820\n",
            "1     -1.050775  0.085208 -0.202652  ... -2.066790  1.136679 -0.842504\n",
            "2      1.207223  0.980673  0.365036  ... -1.505473 -0.204113  1.934695\n",
            "3     -0.987467 -2.601184 -1.338028  ...  2.353583  0.689748 -0.755239\n",
            "4     -1.008570 -0.810256  0.365036  ... -2.066790  2.030540 -0.835483\n",
            "...         ...       ...       ...  ...       ...       ...       ...\n",
            "44995  0.510831  0.980673 -1.338028  ...  0.038149 -1.097975  0.516631\n",
            "44996  0.447523 -0.810256 -0.770340  ...  0.950290 -1.544905 -0.029029\n",
            "44997 -0.628720  0.980673 -1.338028  ... -0.453003 -0.651044 -0.575943\n",
            "44998 -0.987467  0.980673  1.500412  ...  0.318808 -1.544905 -0.842253\n",
            "44999 -1.029672  0.085208 -1.338028  ...  0.038149  0.689748 -0.789342\n",
            "\n",
            "[45000 rows x 8 columns]\n",
            "Training...\n",
            "Training R^2:\n",
            " Epoch: 0\n",
            "  Params: {'teta0': 1.0, 'carat': 1.0, 'cut': 1.0, 'color': 1.0, 'clarity': 1.0, 'volume': 1.0, 'depth': 1.0, 'table': 1.0}\n",
            "  R^2: -2.463208514290623\n",
            " Epoch: 1\n",
            "  Params: {'teta0': 0.011687616820855461, 'carat': 0.5266209137707901, 'cut': 0.2225381624447064, 'color': 0.17511049750833182, 'clarity': 0.25852689536964407, 'volume': 0.5407833363278239, 'depth': 0.17516218726615365, 'table': 0.2169010294339139}\n",
            "  R^2: 0.8557352429240564\n",
            " Epoch: 2\n",
            "  Params: {'teta0': 0.0007326122999928166, 'carat': 0.5161479357719664, 'cut': 0.07030801414192553, 'color': 0.13113506278035283, 'clarity': 0.21332235385348744, 'volume': 0.527089291071553, 'depth': 0.029062523469616772, 'table': 0.03648736544467566}\n",
            "  R^2: 0.9002407623451556\n",
            " Epoch: 3\n",
            "  Params: {'teta0': 0.0005660758009133715, 'carat': 0.5201845746686276, 'cut': 0.03843872068761299, 'color': 0.12782627543985564, 'clarity': 0.21077340780883333, 'volume': 0.5237313220413818, 'depth': 0.0004194556280443878, 'table': -9.492489509562551e-05}\n",
            "  R^2: 0.9019408009897613\n",
            " Epoch: 4\n",
            "  Params: {'teta0': 0.0005511830400590155, 'carat': 0.5244745591616207, 'cut': 0.03193288737861987, 'color': 0.12742585539358917, 'clarity': 0.21061048684643957, 'volume': 0.5198597095057177, 'depth': -0.005401329475585055, 'table': -0.0075484102252181}\n",
            "  R^2: 0.9020203801490937\n",
            " Epoch: 5\n",
            "  Params: {'teta0': 0.0005466799924623171, 'carat': 0.5286414923404242, 'cut': 0.030622834698604592, 'color': 0.12736227805734385, 'clarity': 0.2106028560450505, 'volume': 0.5157977548558483, 'depth': -0.006649922834410095, 'table': -0.009108497548015853}\n",
            "  R^2: 0.9020373544942867\n",
            " Epoch: 6\n",
            "  Params: {'teta0': 0.0005441879536916596, 'carat': 0.5327333103271807, 'cut': 0.03036800532261597, 'color': 0.12735436768508668, 'clarity': 0.21060988204584707, 'volume': 0.5117342767792474, 'depth': -0.006974148739409115, 'table': -0.009474721180765824}\n",
            "  R^2: 0.9020521921405112\n",
            " Epoch: 7\n",
            "  Params: {'teta0': 0.0005421284416935914, 'carat': 0.5367665043738936, 'cut': 0.030326904016042582, 'color': 0.127357047085203, 'clarity': 0.21061893103248297, 'volume': 0.5077131574794318, 'depth': -0.00711034595689055, 'table': -0.009598506082670768}\n",
            "  R^2: 0.9020667317461915\n",
            " Epoch: 8\n",
            "  Params: {'teta0': 0.0005401774812975705, 'carat': 0.5407452984300617, 'cut': 0.030328957266004663, 'color': 0.12736178327445755, 'clarity': 0.21062824660747123, 'volume': 0.5037430272073016, 'depth': -0.007207532691545281, 'table': -0.009672532882057477}\n",
            "  R^2: 0.9020809262788199\n",
            " Epoch: 9\n",
            "  Params: {'teta0': 0.0005382688714684804, 'carat': 0.544671127660784, 'cut': 0.030339613305860963, 'color': 0.1273668788224025, 'clarity': 0.21063751479079587, 'volume': 0.49982508679764676, 'depth': -0.007295895636969637, 'table': -0.00973583279719341}\n",
            "  R^2: 0.902094756628925\n",
            "Final Training R^2: 0.9021082259648702\n",
            " Training mean squared error:  0.09788959866237504\n",
            " Training mean squared error (sklearn):  0.09788959866237522\n",
            "\n",
            "FINAL RESULTS:\n",
            " R^2 score:  0.9021753182916931\n",
            " Mean squared error:  0.09780511677196549\n",
            " Mean squared error (sklearn):  0.09780511677196556\n"
          ],
          "name": "stdout"
        }
      ]
    },
    {
      "cell_type": "markdown",
      "metadata": {
        "id": "ZUX0AraaNH-e"
      },
      "source": [
        "> What are the conclusions? (1-2 paragraphs)\n",
        "\n",
        "The first modification made in our new hypothesis (`h2`) was the return of the `depth` and `table` variables, that were previously removed because they appeared too similar to our already made-up `volume` column. However, re-adding these variables already improved our R^2 score in the first epochs. Then, we tried to analyze the data to see if any variable carried a big weight on the diamond's price. It seemed like adding a degree to `carat` could improve our results, but it wasn't the case and a slight overfit was noticed, as our cost was bigger when using the test data.\n",
        "\n",
        "A modification that truly improved our results was to use a z-score normalization to our data, that pushed our R^2 score very close to the SGDRegressor score. Also, the mean squared error was greatly reduced to a more acceptable value, without any sign of overfitting. Also, with the normalization, now we could increase the learning rate to `1e-4`, as before this value would cause an overflow to happen due to the large variable values. As our R^2 score was close to SGDRegressor and no feature seemed to notably determine the function output, we decided to maintain our new and **final hypothesis** as:\n",
        "\n",
        "```latex\n",
        "h_t(x) = theta0 + theta1*carat + theta2*cut + theta3*color + theta4*clarity + theta5*volume + theta5*depth + theta6*table\n",
        "```\n",
        "where,\n",
        "\n",
        " `cut` follows `{'Fair': 1, 'Good': 2, 'Very Good': 3, 'Premium': 4, 'Ideal': 5}`;\n",
        "\n",
        "`color` follows `{'J': 1, 'H': 2, 'I': 3, 'G': 4, 'F': 5, 'E': 6, 'D': 7}`;\n",
        "\n",
        "`clarity` follows ` {'I1': 1, 'SI2': 2, 'SI1': 3, 'VS2': 4, 'VS1': 5, 'VVS2': 6, 'VVS1': 7, 'IF': 8}`;\n",
        "\n",
        "and `volume` comes from the original data's `x*y*z`"
      ]
    },
    {
      "cell_type": "markdown",
      "metadata": {
        "id": "ldSh1vtWK5Zk"
      },
      "source": [
        "3. (1 point) Plot the cost function vs. number of iterations in the training set and analyze the model complexity. "
      ]
    },
    {
      "cell_type": "code",
      "metadata": {
        "id": "mg7aNkl_LG4P",
        "outputId": "9f18645c-0906-4623-d3a5-459419252e5a",
        "colab": {
          "base_uri": "https://localhost:8080/",
          "height": 447
        }
      },
      "source": [
        "# Trains the model, prints the R2 at each epoch.\n",
        "def fit_graph(params, df, regressor, hypothesis, epochs=10):\n",
        "  cost_axis = []\n",
        "  for i in range(epochs):\n",
        "    params = regressor(params, df, hypothesis)\n",
        "    y_pred = predict(df, hypothesis, params)\n",
        "    c = cost(df['price'].values, y_pred)\n",
        "    print('Epoch:', i, '/ Cost: ', c)\n",
        "    cost_axis.append(c)\n",
        "  return params, cost_axis\n",
        "\n",
        "learning_rate = 1e-4\n",
        "regressor = stochastic_regressor\n",
        "hypothesis = h2\n",
        "preprocessor = preprocess_df2\n",
        "epochs = 10\n",
        "normalization = z_score_normalization\n",
        "\n",
        "# Prepare training data.\n",
        "df = pd.read_csv(\"diamonds-train.csv\")\n",
        "df = preprocessor(df)\n",
        "df = normalization(df)\n",
        "\n",
        "# Define initial params values.\n",
        "params = {'teta0': 1.0}\n",
        "for col in df:\n",
        "  if col == 'price':\n",
        "    continue\n",
        "  params[col] = 1.0\n",
        "\n",
        "# Train.\n",
        "_, cost_axis = fit_graph(params, df, regressor, hypothesis, epochs)\n",
        "\n",
        "iter_axis = np.arange(epochs)\n",
        "\n",
        "# The following code is to make the plot line smoother\n",
        "from scipy.interpolate import make_interp_spline, BSpline\n",
        "\n",
        "# 300 represents number of points to make between each epoch\n",
        "iter_axis_s = np.linspace(min(iter_axis), max(iter_axis), 300) \n",
        "\n",
        "spl = make_interp_spline(iter_axis, cost_axis, k=3)  # type: BSpline\n",
        "cost_axis_s = spl(iter_axis_s)\n",
        "\n",
        "plt.plot(iter_axis_s, cost_axis_s)\n",
        "plt.xlabel('Epoch')\n",
        "plt.ylabel('Cost function')\n",
        "plt.show()"
      ],
      "execution_count": null,
      "outputs": [
        {
          "output_type": "stream",
          "text": [
            "Epoch: 0 / Cost:  0.1442615511924542\n",
            "Epoch: 1 / Cost:  0.09975702078289758\n",
            "Epoch: 2 / Cost:  0.09805701991692986\n",
            "Epoch: 3 / Cost:  0.09797744252602224\n",
            "Epoch: 4 / Cost:  0.09796046855803624\n",
            "Epoch: 5 / Cost:  0.09794563124153804\n",
            "Epoch: 6 / Cost:  0.09793109195896053\n",
            "Epoch: 7 / Cost:  0.09791689774176614\n",
            "Epoch: 8 / Cost:  0.09790306769900116\n",
            "Epoch: 9 / Cost:  0.09788959866237504\n"
          ],
          "name": "stdout"
        },
        {
          "output_type": "display_data",
          "data": {
            "image/png": "[encoded data removed]",
            "text/plain": [
              "<Figure size 432x288 with 1 Axes>"
            ]
          },
          "metadata": {
            "tags": [],
            "needs_background": "light"
          }
        }
      ]
    },
    {
      "cell_type": "markdown",
      "metadata": {
        "id": "rBLKtosaLaCw"
      },
      "source": [
        "\n",
        " > What are the conclusions? What are the actions after such analyses? (1-2 paragraphs)\n",
        "\n",
        "We can see that after the first epoch there is a notable cost reduction, through epochs 1-3 there is a reduction of `0.001` each time, but after that the cost slowly decreases, staying at `0.0979` most of the time and only going to 0.0978 in the last epoch.\n",
        "\n",
        "The next actions should be altering the learning rate and increasing the number of epochs, to see if there are any improvements."
      ]
    },
    {
      "cell_type": "markdown",
      "metadata": {
        "id": "ADxPBRhuK_Vq"
      },
      "source": [
        "4. (3 points) Use different Gradient Descent (GD) learning rates when optimizing. Compare the GD-based solutions with Normal Equation. You should implement your solutions. What are the conclusions?\n"
      ]
    },
    {
      "cell_type": "code",
      "metadata": {
        "id": "RSZ1pLItNVbU"
      },
      "source": [
        "# Use different Gradient Descent (GD) learning rates when optimizing:\n",
        "\n",
        "# First we will turn last question's cell code into a process\n",
        "def gd_plot():\n",
        "  regressor = stochastic_regressor\n",
        "  hypothesis = h2\n",
        "  preprocessor = preprocess_df2\n",
        "  epochs = 20\n",
        "  normalization = z_score_normalization\n",
        "\n",
        "  # Prepare training data.\n",
        "  df = pd.read_csv(\"diamonds-train.csv\")\n",
        "  df = preprocessor(df)\n",
        "  df = normalization(df)\n",
        "\n",
        "  # Define initial params values.\n",
        "  params = {'teta0': 1.0}\n",
        "  for col in df:\n",
        "    if col == 'price':\n",
        "      continue\n",
        "    params[col] = 1.0\n",
        "\n",
        "  # Train.\n",
        "  params, cost_axis = fit_graph(params, df, regressor, hypothesis, epochs)\n",
        "\n",
        "  iter_axis = np.arange(epochs)\n",
        "\n",
        "  # 300 represents number of points to make between each epoch\n",
        "  iter_axis_s = np.linspace(min(iter_axis), max(iter_axis), 300) \n",
        "\n",
        "  spl = make_interp_spline(iter_axis, cost_axis, k=3)  # type: BSpline\n",
        "  cost_axis_s = spl(iter_axis_s)\n",
        "\n",
        "  plt.plot(iter_axis_s, cost_axis_s)\n",
        "  plt.xlabel('Epoch')\n",
        "  plt.ylabel('Cost function')\n",
        "  plt.show()\n",
        "  return params\n",
        "\n",
        "def print_results(params):\n",
        "  hypothesis = h2\n",
        "  preprocessor = preprocess_df2\n",
        "  normalization = z_score_normalization\n",
        "\n",
        "  # Prepare test data.\n",
        "  df = pd.read_csv(\"diamonds-test.csv\")\n",
        "  df = preprocessor(df)\n",
        "  df = normalization(df)\n",
        "\n",
        "  # FINAL RESULTS.\n",
        "  print()\n",
        "  print('FINAL TEST RESULTS:')\n",
        "  print(' R^2 score: ', score(params, df, hypothesis))\n",
        "  y_pred = predict(df, hypothesis, params)\n",
        "  print(' Mean squared error: ', cost(df['price'].values, y_pred))\n",
        "  print(' Mean squared error (sklearn): ', mean_squared_error(df['price'].values, y_pred))"
      ],
      "execution_count": null,
      "outputs": []
    },
    {
      "cell_type": "code",
      "metadata": {
        "id": "OLlVV3FmNbuU",
        "outputId": "8b365260-91d0-4e51-a8c3-59d7a35bbf6c",
        "colab": {
          "base_uri": "https://localhost:8080/",
          "height": 699
        }
      },
      "source": [
        "# Now we can just change the global learning rate before we fit and get the results\n",
        "learning_rate = 1e-3\n",
        "params = gd_plot()\n",
        "print_results(params)"
      ],
      "execution_count": null,
      "outputs": [
        {
          "output_type": "stream",
          "text": [
            "Epoch: 0 / Cost:  0.09869006739549956\n",
            "Epoch: 1 / Cost:  0.09854623716918397\n",
            "Epoch: 2 / Cost:  0.0984345696587684\n",
            "Epoch: 3 / Cost:  0.0983477111878437\n",
            "Epoch: 4 / Cost:  0.09828001089424893\n",
            "Epoch: 5 / Cost:  0.09822712348275828\n",
            "Epoch: 6 / Cost:  0.09818570520240572\n",
            "Epoch: 7 / Cost:  0.09815318092486838\n",
            "Epoch: 8 / Cost:  0.09812756565713199\n",
            "Epoch: 9 / Cost:  0.09810732773339664\n",
            "Epoch: 10 / Cost:  0.09809128392419221\n",
            "Epoch: 11 / Cost:  0.09807851899079982\n",
            "Epoch: 12 / Cost:  0.09806832396551911\n",
            "Epoch: 13 / Cost:  0.09806014877933034\n",
            "Epoch: 14 / Cost:  0.09805356588473305\n",
            "Epoch: 15 / Cost:  0.09804824230692959\n",
            "Epoch: 16 / Cost:  0.09804391815763924\n",
            "Epoch: 17 / Cost:  0.09804039010592906\n",
            "Epoch: 18 / Cost:  0.09803749865264384\n",
            "Epoch: 19 / Cost:  0.09803511832465722\n"
          ],
          "name": "stdout"
        },
        {
          "output_type": "display_data",
          "data": {
            "image/png": "[encoded data removed]",
            "text/plain": [
              "<Figure size 432x288 with 1 Axes>"
            ]
          },
          "metadata": {
            "tags": [],
            "needs_background": "light"
          }
        },
        {
          "output_type": "stream",
          "text": [
            "\n",
            "FINAL TEST RESULTS:\n",
            " R^2 score:  0.9024252274750569\n",
            " Mean squared error:  0.09755525757043856\n",
            " Mean squared error (sklearn):  0.09755525757043836\n"
          ],
          "name": "stdout"
        }
      ]
    },
    {
      "cell_type": "code",
      "metadata": {
        "id": "zEz3dnhZNiMj",
        "outputId": "1b0b1ccd-3d5e-4228-9cf1-cb1986cb807c",
        "colab": {
          "base_uri": "https://localhost:8080/",
          "height": 703
        }
      },
      "source": [
        "learning_rate = 1e-2\n",
        "params = gd_plot()\n",
        "print_results(params)"
      ],
      "execution_count": null,
      "outputs": [
        {
          "output_type": "stream",
          "text": [
            "Epoch: 0 / Cost:  0.10639897735884608\n",
            "Epoch: 1 / Cost:  0.10665285850307461\n",
            "Epoch: 2 / Cost:  0.10674700093921377\n",
            "Epoch: 3 / Cost:  0.10677251354459366\n",
            "Epoch: 4 / Cost:  0.1067790284601166\n",
            "Epoch: 5 / Cost:  0.10678066893052993\n",
            "Epoch: 6 / Cost:  0.10678108057523567\n",
            "Epoch: 7 / Cost:  0.1067811837802244\n",
            "Epoch: 8 / Cost:  0.10678120964952506\n",
            "Epoch: 9 / Cost:  0.10678121613355443\n",
            "Epoch: 10 / Cost:  0.1067812177587288\n",
            "Epoch: 11 / Cost:  0.1067812181660652\n",
            "Epoch: 12 / Cost:  0.10678121826815899\n",
            "Epoch: 13 / Cost:  0.10678121829374902\n",
            "Epoch: 14 / Cost:  0.10678121830016231\n",
            "Epoch: 15 / Cost:  0.10678121830177105\n",
            "Epoch: 16 / Cost:  0.10678121830217209\n",
            "Epoch: 17 / Cost:  0.10678121830227492\n",
            "Epoch: 18 / Cost:  0.10678121830230052\n",
            "Epoch: 19 / Cost:  0.10678121830230727\n"
          ],
          "name": "stdout"
        },
        {
          "output_type": "display_data",
          "data": {
            "image/png": "[encoded data removed]",
            "text/plain": [
              "<Figure size 432x288 with 1 Axes>"
            ]
          },
          "metadata": {
            "tags": [],
            "needs_background": "light"
          }
        },
        {
          "output_type": "stream",
          "text": [
            "\n",
            "FINAL TEST RESULTS:\n",
            " R^2 score:  0.8921587065878156\n",
            " Mean squared error:  0.10781972515350269\n",
            " Mean squared error (sklearn):  0.10781972515350226\n"
          ],
          "name": "stdout"
        }
      ]
    },
    {
      "cell_type": "code",
      "metadata": {
        "id": "IPjImdTPRyv3",
        "outputId": "30870ce4-b250-453a-ef52-c3cd635c5bb7",
        "colab": {
          "base_uri": "https://localhost:8080/",
          "height": 699
        }
      },
      "source": [
        "learning_rate = 2e-3\n",
        "params = gd_plot()\n",
        "print_results(params)"
      ],
      "execution_count": null,
      "outputs": [
        {
          "output_type": "stream",
          "text": [
            "Epoch: 0 / Cost:  0.09861555488214782\n",
            "Epoch: 1 / Cost:  0.09839688578531695\n",
            "Epoch: 2 / Cost:  0.0982687390901226\n",
            "Epoch: 3 / Cost:  0.09819356615123648\n",
            "Epoch: 4 / Cost:  0.09814941126917201\n",
            "Epoch: 5 / Cost:  0.09812343215375426\n",
            "Epoch: 6 / Cost:  0.09810811390492168\n",
            "Epoch: 7 / Cost:  0.0980990565923979\n",
            "Epoch: 8 / Cost:  0.09809368221383657\n",
            "Epoch: 9 / Cost:  0.0980904788440985\n",
            "Epoch: 10 / Cost:  0.09808855869645876\n",
            "Epoch: 11 / Cost:  0.09808739964547092\n",
            "Epoch: 12 / Cost:  0.09808669399031866\n",
            "Epoch: 13 / Cost:  0.09808625991883353\n",
            "Epoch: 14 / Cost:  0.09808598964186815\n",
            "Epoch: 15 / Cost:  0.09808581898267195\n",
            "Epoch: 16 / Cost:  0.09808570952546121\n",
            "Epoch: 17 / Cost:  0.09808563812072991\n",
            "Epoch: 18 / Cost:  0.09808559070360653\n",
            "Epoch: 19 / Cost:  0.09808555864361693\n"
          ],
          "name": "stdout"
        },
        {
          "output_type": "display_data",
          "data": {
            "image/png": "[encoded data removed]",
            "text/plain": [
              "<Figure size 432x288 with 1 Axes>"
            ]
          },
          "metadata": {
            "tags": [],
            "needs_background": "light"
          }
        },
        {
          "output_type": "stream",
          "text": [
            "\n",
            "FINAL TEST RESULTS:\n",
            " R^2 score:  0.902071209749939\n",
            " Mean squared error:  0.09790920449201117\n",
            " Mean squared error (sklearn):  0.09790920449201126\n"
          ],
          "name": "stdout"
        }
      ]
    },
    {
      "cell_type": "code",
      "metadata": {
        "id": "h-xRuMOVNlJP",
        "outputId": "62d6ce4e-e1ee-43bc-c582-bc641e63364e",
        "colab": {
          "base_uri": "https://localhost:8080/",
          "height": 356
        }
      },
      "source": [
        "# Compare the GD-based solutions (e.g., Batch, SGD, Mini-batch) with Normal Equation. Implement your solution. You cannot use scikit-learn libraries.\n",
        "preprocess = preprocess_df2\n",
        "normalization = z_score_normalization\n",
        "\n",
        "df = pd.read_csv(\"diamonds-train.csv\")\n",
        "df = preprocess(df)\n",
        "df = normalization(df)\n",
        "df.insert(0, 'teta0', np.ones((len(df.index), 1), dtype=int))\n",
        "print(df)\n",
        "X = df.drop(['price'], axis=1).values\n",
        "y = df['price'].values\n",
        "\n",
        "# NORMAL EQUATION\n",
        "start = timer()\n",
        "X_t = np.transpose(X)\n",
        "params_values = np.dot(np.dot(np.linalg.inv(np.dot(X_t, X)), X_t), y)\n",
        "end = timer()\n",
        "\n",
        "headers = list(df.drop(['price'], axis=1))\n",
        "params = dict(zip(headers, params_values))\n",
        "print('Final values for tetas:', params)\n",
        "\n",
        "# Prepare test data.\n",
        "df = pd.read_csv(\"diamonds-test.csv\")\n",
        "df = preprocess(df)\n",
        "df = normalization(df)\n",
        "\n",
        "# FINAL RESULTS.\n",
        "print('Elapsed training time: ', end - start, ' seconds.')\n",
        "print('R^2 score: ', score(params, df, hypothesis))\n",
        "y_pred = predict(df, hypothesis, params)\n",
        "print('Mean squared error: ', cost(df['price'].values, y_pred))\n",
        "print('Mean squared error (sklearn): ', mean_squared_error(df['price'].values, y_pred))"
      ],
      "execution_count": null,
      "outputs": [
        {
          "output_type": "stream",
          "text": [
            "       teta0     carat       cut  ...     depth     table     price\n",
            "0          1  1.734793  0.980673  ...  0.248643 -1.097975  1.646820\n",
            "1          1 -1.050775  0.085208  ... -2.066790  1.136679 -0.842504\n",
            "2          1  1.207223  0.980673  ... -1.505473 -0.204113  1.934695\n",
            "3          1 -0.987467 -2.601184  ...  2.353583  0.689748 -0.755239\n",
            "4          1 -1.008570 -0.810256  ... -2.066790  2.030540 -0.835483\n",
            "...      ...       ...       ...  ...       ...       ...       ...\n",
            "44995      1  0.510831  0.980673  ...  0.038149 -1.097975  0.516631\n",
            "44996      1  0.447523 -0.810256  ...  0.950290 -1.544905 -0.029029\n",
            "44997      1 -0.628720  0.980673  ... -0.453003 -0.651044 -0.575943\n",
            "44998      1 -0.987467  0.980673  ...  0.318808 -1.544905 -0.842253\n",
            "44999      1 -1.029672  0.085208  ...  0.038149  0.689748 -0.789342\n",
            "\n",
            "[45000 rows x 9 columns]\n",
            "Final values for tetas: {'teta0': 2.809384669344439e-15, 'carat': 0.8332114811231538, 'cut': 0.03178080717379272, 'color': 0.1267077805326195, 'clarity': 0.2120813574091839, 'volume': 0.20508369063790466, 'depth': -0.012903074165016206, 'table': -0.014159160645465529}\n",
            "Elapsed training time:  0.003272432999438024  seconds.\n",
            "R^2 score:  0.9026871585473908\n",
            "Mean squared error:  0.09729337888431905\n",
            "Mean squared error (sklearn):  0.09729337888431899\n"
          ],
          "name": "stdout"
        }
      ]
    },
    {
      "cell_type": "markdown",
      "metadata": {
        "id": "vbGOQzcsNSOm"
      },
      "source": [
        "> What are the conclusions? (2-4 paragraphs)\n",
        "\n",
        "Firstly, when changing the learning rates, we probably found our limit before diverging, at least for our current model. When using a learning rate of `1e-3` we already saw better results in the first epoch, achieving the `0.098` mark right away. However, this time the gradient descent appeared to be a lot slower than before, reaching the `0.098035` of cost at the last epoch. It is important to notice that we also increased the number of epochs to 20 to allow the cost to reduce even more. Interestingly enough, when using the test data our cost reached `0.097`, a better result than our training showed.\n",
        "\n",
        "However, when using a learning rate of `1e-2` we immediately noticed the cost reach `0.106` and start increasing, showing that the model would not converge. Even though this learning rate prevented a gradient descent when testing, the R^2 score remained at a high `0.892` and the cost was `0.107`, a relatively \"good\" error value. The reason for this could be due to the slow increase in the cost function that prevented worse results.\n",
        "\n",
        "The last training using a learning rate of `2e-3` showed that the \"limit\" could be at the 10^3 scale. A test (not in this notebook) made using `6e-3` and the results were similar to the `1e-2` test. This test also arrived at similar results as the first one, with a slightly worse R^2 score.\n",
        "\n",
        "Finally, using the Normal Equation was much faster and arrived at almost the same, if not better, results. With the Normal Equation, we only spent `0.005` seconds training to arrive at a `0.9026` R^2 score and a `0.0972` mean squared error. As we did until now, we also normalized the data before calculating the theta matrix."
      ]
    }
  ]
}