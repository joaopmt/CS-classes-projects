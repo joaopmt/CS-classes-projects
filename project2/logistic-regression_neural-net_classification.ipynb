{
  "nbformat": 4,
  "nbformat_minor": 0,
  "metadata": {
    "colab": {
      "name": "2020s2-mc886-assignment-02_176117_185531.ipynb",
      "provenance": [],
      "collapsed_sections": [],
      "include_colab_link": true
    },
    "kernelspec": {
      "name": "python3",
      "display_name": "Python 3"
    },
    "accelerator": "GPU"
  },
  "cells": [
    {
      "cell_type": "markdown",
      "metadata": {
        "id": "view-in-github",
        "colab_type": "text"
      },
      "source": [
        "<a href=\"https://colab.research.google.com/github/joaopmt/CS-classes-projects/blob/master/project2/logistic-regression_neural-net_classification.ipynb\" target=\"_parent\"><img src=\"https://colab.research.google.com/assets/colab-badge.svg\" alt=\"Open In Colab\"/></a>"
      ]
    },
    {
      "cell_type": "markdown",
      "metadata": {
        "id": "Cs9E_R5yD48u"
      },
      "source": [
        "# **Assignment \\#2**: Machine Learning MC886\n",
        "University of Campinas (UNICAMP), Institute of Computing (IC)\n",
        "\n",
        "Prof. Sandra Avila, 2020s2\n",
        "\n"
      ]
    },
    {
      "cell_type": "code",
      "metadata": {
        "id": "tFS9Oum_RJX9",
        "colab": {
          "base_uri": "https://localhost:8080/"
        },
        "outputId": "462388bb-0f9d-47e7-a87f-14725987b8a6"
      },
      "source": [
        "# TODO: RA & Name \n",
        "print('176117: ' + 'João Pedro Martins')\n",
        "print('185531: ' + 'Pedro Alan Tapia Ramos')"
      ],
      "execution_count": null,
      "outputs": [
        {
          "output_type": "stream",
          "text": [
            "176117: João Pedro Martins\n",
            "185531: Pedro Alan Tapia Ramos\n"
          ],
          "name": "stdout"
        }
      ]
    },
    {
      "cell_type": "markdown",
      "metadata": {
        "id": "IVGH2s7fD_03"
      },
      "source": [
        "### Objective \n",
        "\n",
        "Explore **classification techniques** (logistic regression & neural networks) and come up with the best possible model to the problem, avoiding overfitting. In particular, build an object recognition system to accurately classify images using the Fashion-MNIST dataset (https://github.com/zalandoresearch/fashion-mnist)."
      ]
    },
    {
      "cell_type": "markdown",
      "metadata": {
        "id": "r3XDZRGqEwsk"
      },
      "source": [
        "## Dataset\n",
        "\n",
        "Fashion-MNIST is a dataset of Zalando's article images, consisting of a training set of 60,000 examples and a test set of 10,000 examples. Each example is a 28x28 grayscale image, associated with a label from 10 classes.\n",
        "\n",
        "\n",
        "Each training and test example is assigned to one of the following labels:\n",
        "\n",
        "**Label \tDescription**\n",
        "- 0 \tt-shirt/top\n",
        "- 1 \ttrouser\n",
        "- 2 \tpullover\n",
        "- 3 \tdress\n",
        "- 4 \tcoat\n",
        "- 5 \tsandal\n",
        "- 6 \tshirt\n",
        "- 7 \tsneaker\n",
        "- 8 \tbag\n",
        "- 9 \tankle boot\n",
        "\n",
        "**Dataset Information:**\n",
        "\n",
        "- You should respect the following traininig/test split: 60,000 training examples, and 10,000 test examples. Avoid overfitting.\n",
        "- The data is available at: https://www.dropbox.com/s/qawunrav8ri0sp4/fashion-mnist-dataset.zip: 'train' folder (fashion-mnist_train.csv.zip) + 'test' folder (fashion-mnist_test.csv.zip)\t\n",
        "- Each row is a separate image. Column 1 is the class label. Remaining columns are pixel numbers (784 total). Each value is the darkness of the pixel (1 to 255). Dataset was converted to CSV with this script: https://pjreddie.com/projects/mnist-in-csv.\n"
      ]
    },
    {
      "cell_type": "markdown",
      "metadata": {
        "id": "kdSGS4brHnAi"
      },
      "source": [
        "## Deadline\n",
        "\n",
        "Monday, November 16th 7pm. \n",
        "\n",
        "Penalty policy for late submission: You are not encouraged to submit your assignment after due date. However, in case you did, your grade will be penalized as follows:\n",
        "- November 17th 7pm : grade * 0.75\n",
        "- November 18th 7pm : grade * 0.5\n",
        "- November 19th 7pm : grade * 0.25\n"
      ]
    },
    {
      "cell_type": "markdown",
      "metadata": {
        "id": "joN9pvZJIfW5"
      },
      "source": [
        "## Submission\n",
        "\n",
        "On Google Classroom, submit your Jupyter Notebook (in Portuguese or English).\n",
        "\n",
        "**This activity is NOT individual, it must be done in pairs (two-person group).**"
      ]
    },
    {
      "cell_type": "code",
      "metadata": {
        "id": "Zvpd184naaqc",
        "colab": {
          "base_uri": "https://localhost:8080/"
        },
        "outputId": "5253e5e5-8a9f-4a8a-f5a8-20f5401774a4"
      },
      "source": [
        "from google.colab import drive\n",
        "drive.mount('/content/drive', force_remount=True)"
      ],
      "execution_count": null,
      "outputs": [
        {
          "output_type": "stream",
          "text": [
            "Mounted at /content/drive\n"
          ],
          "name": "stdout"
        }
      ]
    },
    {
      "cell_type": "code",
      "metadata": {
        "id": "3y0QxxH1KgE1"
      },
      "source": [
        "import numpy as np\n",
        "import pandas as pd\n",
        "import matplotlib.colors\n",
        "import matplotlib.pyplot as plt\n",
        "\n",
        "import seaborn as sns\n",
        "\n",
        "from sklearn.preprocessing import OneHotEncoder\n",
        "from sklearn.metrics import confusion_matrix\n"
      ],
      "execution_count": null,
      "outputs": []
    },
    {
      "cell_type": "markdown",
      "metadata": {
        "id": "aZgUH3bPGacp"
      },
      "source": [
        "## Activities\n",
        "\n",
        "1. (2 points) Perform Multinomial Logistic Regression (_i.e._, softmax regression). It is a generalization of Logistic Regression to the case where we want to handle multiple classes. **You should implement your solution**.\n"
      ]
    },
    {
      "cell_type": "code",
      "metadata": {
        "id": "D9cpdif9JxFR"
      },
      "source": [
        "class MultinomialLogisticRegressor:\n",
        "\n",
        "  def __init__(self, learning_rate=1e-4, n_epochs=30, batch_size=1024, log_epochs=False):\n",
        "    self.learning_rate = learning_rate\n",
        "    self.n_epochs = n_epochs\n",
        "    self.k = 0 # Number of classes.\n",
        "    self.batch_size = batch_size\n",
        "    self.log_epochs = log_epochs\n",
        "    self.cost = None\n",
        "    self.params = None\n",
        "    self.theta0 = None\n",
        "  \n",
        "\n",
        "  def fit(self, X_train, y_train, X_validation, y_validation):\n",
        "    '''\n",
        "    `X_train`: numpy array of features to be used in training.\n",
        "    `y_train`: numpy array of targets for the given features to be used in\n",
        "    training.\n",
        "    `X_validation`: numpy array of features to be used for logging the cost at\n",
        "    each epoch for validation.\n",
        "    `y_validation`: numpy array of targets for the given features to be used for\n",
        "    logging the cost at each epoch for validation.\n",
        "    '''\n",
        "    _, n_pixels = X_train.shape\n",
        "    self.k = np.unique(y_train).shape[0]\n",
        "    print('Total of classes:', self.k)\n",
        "    self.params = np.random.rand(self.k, n_pixels)\n",
        "    self.theta0 = np.random.rand(self.k, 1)\n",
        "    self.cost = np.array([])\n",
        "\n",
        "    for epoch in range(self.n_epochs):\n",
        "      # Shuffle data.\n",
        "      permutation = np.random.permutation(X_train.shape[0])\n",
        "      X = X_train[permutation]\n",
        "      y = y_train[permutation]\n",
        "\n",
        "      # Mini batch gradient descent.\n",
        "      for i in range(0, X.shape[0], self.batch_size): \n",
        "        mini_X = X[i:i+self.batch_size]\n",
        "        mini_y = y[i:i+self.batch_size]\n",
        "\n",
        "        probabilities, _ = self.predict(mini_X)\n",
        "        probabilities[np.arange(mini_X.shape[0]), mini_y] -= 1\n",
        "\n",
        "        # Get gradients.\n",
        "        d_params = probabilities.T.dot(mini_X)\n",
        "        d_theta0 = np.sum(probabilities, axis = 0).reshape(-1,1)\n",
        "\n",
        "        # Update parameters.\n",
        "        self.params -= (self.learning_rate * d_params)\n",
        "        self.theta0 -= (self.learning_rate * d_theta0)\n",
        "\n",
        "      if self.log_epochs:\n",
        "        # Calculate cost.\n",
        "        probabilities, _ = self.predict(X_validation)\n",
        "        CECost = self.cross_entropy_cost(probabilities, y_validation)\n",
        "        print('Epoch:', epoch, 'Cost:', CECost)\n",
        "        self.cost = np.append(self.cost, CECost)\n",
        "\n",
        "\n",
        "  def predict(self, X):\n",
        "    '''\n",
        "    Generates a pair of output probabilities and predictions for the given batch\n",
        "    of features.\n",
        "    '''\n",
        "    logit_scores = self.linear_predict(X)\n",
        "    probabilities = self.softmax_normalizer(logit_scores)\n",
        "    predictions = np.array([np.argmax(i) for i in probabilities]) # returns the outcome with max probability\n",
        "    return probabilities, predictions\n",
        "\n",
        "\n",
        "  def linear_predict(self, X):\n",
        "    '''\n",
        "    Calculates logit scores for given feature samples.\n",
        "    '''\n",
        "    logit_scores = np.array([np.empty([self.k]) for i in range(X.shape[0])]).astype(np.float128)\n",
        "    for i in range(X.shape[0]): # iterating through each image\n",
        "        logit_scores[i] = (self.params.dot(X[i].reshape(-1,1)) + self.theta0).reshape(-1)\n",
        "\n",
        "    return logit_scores\n",
        "\n",
        "\n",
        "  def softmax_normalizer(self, logit_matrix):\n",
        "    '''\n",
        "    Transforms the given logit scores to probabilities that sum up to 1.\n",
        "    `logit_matrix`: matrix containing logit scores for multiple input samples.\n",
        "    Returns `probabilities`: matrix containing probabilities for given logit\n",
        "    scores.\n",
        "    '''\n",
        "    probabilities = np.array([np.empty([self.k]) for i in range(logit_matrix.shape[0])]) # creating empty(garbage value) array for each feature set\n",
        "\n",
        "    for i in range(logit_matrix.shape[0]):\n",
        "        exp = np.exp(logit_matrix[i]) # Exponentiates each element of the logit array.\n",
        "        sumOfArr = np.sum(exp) # Adds up all the values in the exponentiated array.\n",
        "        probabilities[i] = exp / sumOfArr # Logit scores to probability values.\n",
        "\n",
        "    return probabilities\n",
        "\n",
        "\n",
        "  def cross_entropy_cost(self, probabilities, target):\n",
        "    '''\n",
        "    Calculates the cross entropy cost for the given pair of probalities and\n",
        "    target.\n",
        "    `target`: 2D matrix of shape (n_samples, 1) containing the correct target\n",
        "    class number for each sample.\n",
        "    `probabilities`: 2D matrix of shape (n_samples, 10) containing the array of\n",
        "    probabilities for each sample.\n",
        "    Returns `CECost`: scalar value of the cost.\n",
        "    '''\n",
        "    n_samples = probabilities.shape[0]\n",
        "    CECost = 0\n",
        "    for sample, i in zip(probabilities, target):\n",
        "      CECost += -np.log(sample[i])\n",
        "    CECost /= n_samples\n",
        "\n",
        "    return CECost\n",
        "\n",
        "\n",
        "  def standardScaler(self, X):\n",
        "    '''\n",
        "    Scale the feature set so it has mean 0 and standard deviation 1.\n",
        "    '''\n",
        "    total_cols = X.shape[1]\n",
        "    for i in range(total_cols):\n",
        "      X_col = X[:, i]\n",
        "      mean = X_col.mean()\n",
        "      std = X_col.std()\n",
        "      X[:, i] = (X[:, i] - mean) / std\n"
      ],
      "execution_count": null,
      "outputs": []
    },
    {
      "cell_type": "code",
      "metadata": {
        "id": "QgAY4pqey2Pc",
        "colab": {
          "base_uri": "https://localhost:8080/",
          "height": 812
        },
        "outputId": "194de07d-9d93-4630-a662-fc019325bb0c"
      },
      "source": [
        "# Load training set.\n",
        "df = pd.read_csv(\"/content/drive/Shared drives/mc886/fashion-mnist_train.csv\") # Assuming you have this path\n",
        "\n",
        "y = df['label'].to_numpy()\n",
        "del df['label']\n",
        "X = df.to_numpy().astype(np.float128) # float64 and below will overflow.\n",
        "del df\n",
        "\n",
        "regressor = MultinomialLogisticRegressor(log_epochs=True)\n",
        "regressor.standardScaler(X)\n",
        "\n",
        "X_train = X[:50000]\n",
        "X_validation = X[50000:]\n",
        "y_train = y[:50000]\n",
        "y_validation = y[50000:]\n",
        "\n",
        "regressor.fit(X_train, y_train, X_validation, y_validation)\n",
        "\n",
        "plt.plot(list(range(1, len(regressor.cost)+1)), regressor.cost, color='r')\n",
        "plt.xlabel('epoch')\n",
        "plt.ylabel('cost')"
      ],
      "execution_count": null,
      "outputs": [
        {
          "output_type": "stream",
          "text": [
            "Total of classes: 10\n",
            "Epoch: 0 Cost: 1.6828628262861869\n",
            "Epoch: 1 Cost: 1.339689017685784\n",
            "Epoch: 2 Cost: 1.1823751978825743\n",
            "Epoch: 3 Cost: 1.0849588810954758\n",
            "Epoch: 4 Cost: 1.016824541983306\n",
            "Epoch: 5 Cost: 0.9659426640418842\n",
            "Epoch: 6 Cost: 0.9229369158129066\n",
            "Epoch: 7 Cost: 0.8896760452238419\n",
            "Epoch: 8 Cost: 0.8638250026456477\n",
            "Epoch: 9 Cost: 0.8407601244750639\n",
            "Epoch: 10 Cost: 0.8203978578780298\n",
            "Epoch: 11 Cost: 0.8011950812902598\n",
            "Epoch: 12 Cost: 0.7857310210287748\n",
            "Epoch: 13 Cost: 0.7716039761526624\n",
            "Epoch: 14 Cost: 0.7578917240659327\n",
            "Epoch: 15 Cost: 0.7479394745615884\n",
            "Epoch: 16 Cost: 0.7398956833548915\n",
            "Epoch: 17 Cost: 0.7260145060992345\n",
            "Epoch: 18 Cost: 0.7136300458897301\n",
            "Epoch: 19 Cost: 0.7074267696345795\n",
            "Epoch: 20 Cost: 0.6989211986127217\n",
            "Epoch: 21 Cost: 0.692536024304709\n",
            "Epoch: 22 Cost: 0.683804767430969\n",
            "Epoch: 23 Cost: 0.6767749118430699\n",
            "Epoch: 24 Cost: 0.6706246579974345\n",
            "Epoch: 25 Cost: 0.6651723278754933\n",
            "Epoch: 26 Cost: 0.6586219825841108\n",
            "Epoch: 27 Cost: 0.6538094541803866\n",
            "Epoch: 28 Cost: 0.6523150026146028\n",
            "Epoch: 29 Cost: 0.6446425837263939\n"
          ],
          "name": "stdout"
        },
        {
          "output_type": "execute_result",
          "data": {
            "text/plain": [
              "Text(0, 0.5, 'cost')"
            ]
          },
          "metadata": {
            "tags": []
          },
          "execution_count": 25
        },
        {
          "output_type": "display_data",
          "data": {
            "image/png": "[encoded data removed]",
            "text/plain": [
              "<Figure size 432x288 with 1 Axes>"
            ]
          },
          "metadata": {
            "tags": [],
            "needs_background": "light"
          }
        }
      ]
    },
    {
      "cell_type": "code",
      "metadata": {
        "id": "m6-F5kbrWTiw",
        "colab": {
          "base_uri": "https://localhost:8080/"
        },
        "outputId": "bd911e05-0f0c-4504-c837-a982a8a77dc6"
      },
      "source": [
        "# Load test set.\n",
        "df_test = pd.read_csv(\"/content/drive/Shared drives/mc886/fashion-mnist_test.csv\") # Assuming you have this path\n",
        "\n",
        "y_test = df_test['label'].to_numpy()\n",
        "del df_test['label']\n",
        "X_test = df_test.to_numpy().astype(np.float128) # float64 and below will overflow.\n",
        "del df_test\n",
        "\n",
        "regressor.standardScaler(X_test)\n",
        "\n",
        "y_probabilities, y_predicted = regressor.predict(X_test)\n",
        "\n",
        "print(regressor.cross_entropy_cost(y_probabilities, y_test))"
      ],
      "execution_count": null,
      "outputs": [
        {
          "output_type": "stream",
          "text": [
            "0.6310898961151216\n"
          ],
          "name": "stdout"
        }
      ]
    },
    {
      "cell_type": "markdown",
      "metadata": {
        "id": "zBNZQNImKQeo"
      },
      "source": [
        "\n",
        "> What are the conclusions? (1-2 paragraphs)\n",
        "\n",
        "Our model is a multinomial logistic regressor that uses the softmax function to classify the set of features over 10 classes. The feature set is scaled so it has mean 0 and standard deviation 1. The cost function used is the cross entropy cost function. The original training set is subdivided in a new training set with 50K samples and a validation set with 10K samples.\n",
        "\n",
        "Each epoch is processed fairly fast since computations are mostly simple, done with numpy multiplication of 2D matrices. The cost x epoch graph shows an elbow at around the 7th epoch, which means this is the point the learning slows down. During training, the model hit a cost of 0.644 in 30 epochs, being evaluated with the validation set. With the testing set, the model hit a cost of 0.631, lower than what was hit in training, thus showing no signs of overfitting.\n",
        "\n"
      ]
    },
    {
      "cell_type": "markdown",
      "metadata": {
        "id": "XrPl7jKgJPW6"
      },
      "source": [
        "\n",
        "2. (6 points) Move on to Neural Networks, using _one_ or _two hidden layers_. **You should implement your solution** (weight & bias initialization, forward propagation, backward propagation, activation function, ...).\n"
      ]
    },
    {
      "cell_type": "code",
      "metadata": {
        "id": "GjGbg41PMHR9"
      },
      "source": [
        "import numpy as np\n",
        "\n",
        "class NeuralNetwork:\n",
        "\n",
        "  def __init__(self, layer_sizes, activation_f, activation_f_derivative, \n",
        "               learning_rate=1e-3, n_epochs=30, batch_size=1024, log_epochs=False):\n",
        "    self.learning_rate = learning_rate\n",
        "    self.n_epochs = n_epochs\n",
        "    self.batch_size = batch_size\n",
        "    self.log_epochs = log_epochs\n",
        "    self.layer_sizes = layer_sizes \n",
        "    self.activation_f = activation_f # Activation function\n",
        "    self.activation_f_derivative = activation_f_derivative\n",
        "    self.num_layers = len(layer_sizes)\n",
        "    self.biases = [np.random.randn(y, 1) for y in layer_sizes[1:]]\n",
        "    self.weights = [np.random.randn(y, x) * np.sqrt(2.0 / x) \\\n",
        "                    for x, y in zip(layer_sizes[:-1], layer_sizes[1:])]\n",
        "    self.cost = np.array([])\n",
        "  \n",
        "\n",
        "  def fit(self, X_train, y_train, X_validation, y_validation):\n",
        "    '''\n",
        "    `X_train`: numpy array of features to be used in training.\n",
        "    `y_train`: numpy array of targets for the given features to be used in\n",
        "    training.\n",
        "    `X_validation`: numpy array of features to be used for logging the cost at\n",
        "    each epoch for validation.\n",
        "    `y_validation`: numpy array of targets for the given features to be used for\n",
        "    logging the cost at each epoch for validation.\n",
        "    '''\n",
        "    # Vectorize y arrays.\n",
        "    y_train_vectorized = vectorize_target(y_train)\n",
        "    y_validation_vectorized = vectorize_target(y_validation)\n",
        "\n",
        "    for epoch in range(self.n_epochs):\n",
        "      # Shuffle data.\n",
        "      permutation = np.random.permutation(X_train.shape[0])\n",
        "      X_train = X_train[permutation]\n",
        "      y_train_vectorized = y_train_vectorized[permutation]\n",
        "\n",
        "      # Mini batch gradient descent.\n",
        "      for i in range(0, X_train.shape[0], self.batch_size):\n",
        "        mini_X = X_train[i:i+self.batch_size]\n",
        "        mini_y = y_train_vectorized[i:i+self.batch_size]\n",
        "\n",
        "        self.process_mini_batch_simultaneous(mini_X, mini_y)\n",
        "\n",
        "      if self.log_epochs:\n",
        "        # Calculate cost.\n",
        "        CECost = self.calculate_cost(X_validation, y_validation_vectorized)\n",
        "        print('Epoch:', epoch, 'Cost:', CECost)\n",
        "        self.cost = np.append(self.cost, CECost)\n",
        "    \n",
        "\n",
        "  def process_mini_batch_simultaneous(self, mini_X, mini_y):\n",
        "    '''\n",
        "    Process the given mini-batch with a matrix-based approach.\n",
        "    '''\n",
        "    gradient_w, gradient_b = self.backpropagation_simultaneous(mini_X.T, mini_y.T)\n",
        "\n",
        "    batch_size = mini_X.shape[0]\n",
        "\n",
        "    self.weights = [\n",
        "        w - (self.learning_rate / batch_size) * gradw\n",
        "        for w, gradw in zip(self.weights, gradient_w)\n",
        "    ]\n",
        "    self.biases = [\n",
        "        b - (self.learning_rate / batch_size) * gradb\n",
        "        for b, gradb in zip(self.biases, gradient_b)\n",
        "    ]\n",
        "\n",
        "    return gradient_w, gradient_b\n",
        "\n",
        "  \n",
        "  def backpropagation_simultaneous(self, x, y):\n",
        "    '''\n",
        "    Computes the gradients for all training examples in the given mini-batch\n",
        "    simultaneously. Here, `x` is an (input x batch_size) matrix and `y` is an\n",
        "    (output x batch_size) matrix. This matrix-based approach has over 2x speedup\n",
        "    when compared to iterating through each sample in the batch individually. \n",
        "    '''\n",
        "    gradient_b = [0 for i in self.biases]\n",
        "    gradient_w = [0 for i in self.weights]\n",
        "\n",
        "    # Feedforward.\n",
        "    activation = x\n",
        "    activations = [x]\n",
        "    zs = []\n",
        "    for b, w in zip(self.biases, self.weights):\n",
        "        z = np.dot(w, activation) + b\n",
        "        zs.append(z)\n",
        "        activation = self.activation_f(z)\n",
        "        activations.append(activation)\n",
        "\n",
        "    # Backward pass.\n",
        "    activations[-1] = self.softmax_normalizer1D(activations[-1])\n",
        "    delta = self.cross_entropy_cost_derivate(activations[-1], y)\n",
        "    gradient_b[-1] = delta.sum(1).reshape([len(delta), 1]) # Reshape to (n x 1) matrix.\n",
        "    gradient_w[-1] = np.dot(delta, activations[-2].T)\n",
        "\n",
        "    for l in range(2, self.num_layers):\n",
        "        z = zs[-l]\n",
        "        delta = np.dot(self.weights[-l + 1].T, delta) * self.activation_f_derivative(z)\n",
        "        gradient_b[-l] = delta.sum(1).reshape([len(delta), 1]) # Reshape to (n x 1) matrix.\n",
        "        gradient_w[-l] = np.dot(delta, activations[-l - 1].T)\n",
        "\n",
        "    return (gradient_w, gradient_b)\n",
        "\n",
        "\n",
        "  def calculate_cost(self, X, y):\n",
        "    '''\n",
        "    Calculate and returns the cost of the given pair of input output matrices.\n",
        "    Note that this is the cost (not loss), so it is based on all the samples of\n",
        "    the set.\n",
        "    '''\n",
        "    # Gets probabilities matrix for all samples.\n",
        "    probabilities = \\\n",
        "        self.softmax_normalizer(\n",
        "            np.array(\n",
        "                [self.feedforward(x.reshape(x.shape[0], 1)) for x in X]))\n",
        "        \n",
        "    n_samples = probabilities.shape[0]\n",
        "    CECost = self.cross_entropy_cost(probabilities, y) / n_samples\n",
        "\n",
        "    return CECost\n",
        "\n",
        "\n",
        "  def feedforward(self, a):\n",
        "    '''\n",
        "    Runs the given input array `a` through the network and returns the output\n",
        "    activation at the last layer.\n",
        "    '''\n",
        "    for b, w in zip(self.biases, self.weights):\n",
        "        a = self.activation_f(np.dot(w, a) + b)\n",
        "\n",
        "    return a.reshape(a.shape[0])\n",
        "\n",
        "\n",
        "  def softmax_normalizer(self, activations):\n",
        "    '''\n",
        "    Transforms the given activations to probabilities that sum up to 1.\n",
        "    `activations`: matrix containing activations for multiple input samples.\n",
        "    Returns `probabilities`: matrix containing probabilities for given\n",
        "    activations.\n",
        "    '''\n",
        "    probabilities = \\\n",
        "        np.array(\n",
        "            [np.empty([self.layer_sizes[-1]])\n",
        "             for i in range(activations.shape[0])])\n",
        "\n",
        "    for i in range(activations.shape[0]):\n",
        "        exp = np.exp(activations[i]) # Exponentiates each element of the activation array.\n",
        "        sumOfArr = np.sum(exp) # Adds up all the values in the exponentiated array.\n",
        "        probabilities[i] = exp/sumOfArr # Activation to probability values.\n",
        "        \n",
        "    return probabilities\n",
        "\n",
        "\n",
        "  def softmax_normalizer1D(self, activation):\n",
        "    '''\n",
        "    Transforms the given activation to probabilities that sum up to 1.\n",
        "    `activation`: array containing the activation for a layer.\n",
        "    Returns `probabilities`: array containing probabilities for the given\n",
        "    activation.\n",
        "    '''\n",
        "    probabilities = np.empty(activation.shape).T\n",
        "        \n",
        "    for i in range(probabilities.shape[0]):\n",
        "        exp = np.exp(activation.T[i]) # Exponentiates each element of the activation array.\n",
        "        sumOfArr = np.sum(exp) # Adds up all the values in the exponentiated array\n",
        "        probabilities[i] = exp/sumOfArr # Activation to probability values.\n",
        "        \n",
        "    return probabilities.T\n",
        "\n",
        "\n",
        "  def cross_entropy_cost(self, probabilities, target):\n",
        "    return np.sum(\n",
        "        np.nan_to_num(\n",
        "            -target * np.log(probabilities) - (1 - target) \\\n",
        "                * np.log(1 - probabilities)))\n",
        "\n",
        "\n",
        "  def cross_entropy_cost_derivate(self, probabilities, target):\n",
        "    return probabilities - target\n",
        "\n",
        "\n",
        "  def standardScaler(self, X):\n",
        "    '''\n",
        "    Scale the feature set so it has mean 0 and standard deviation 1.\n",
        "    '''\n",
        "    total_cols = X.shape[1]\n",
        "    for i in range(total_cols):\n",
        "      X_col = X[:, i]\n",
        "      mean = X_col.mean()\n",
        "      std = X_col.std()\n",
        "      X[:, i] = (X[:, i] - mean) / std\n",
        "\n",
        "\n",
        "def vectorize_target(target_array):\n",
        "  '''\n",
        "  Returns vectorized version of the given target array so that\n",
        "  `vectorized_target_array[i, k] = 1 if target_array[i] = k else 0`.\n",
        "  '''\n",
        "  vectorized_target_array = \\\n",
        "      np.zeros([target_array.shape[0], self.layer_sizes[-1]])\n",
        "\n",
        "    for i, target_class in enumerate(target_array):\n",
        "      vectorized_target_array[i, target_class] = 1\n",
        "\n",
        "  return vectorized_target_array\n",
        "\n",
        "\n",
        "def sigmoid(z):\n",
        "  return 1.0 / (1.0 + np.exp(-z))\n",
        "\n",
        "\n",
        "def sigmoid_derivative(z):\n",
        "  sigmoid = lambda z: 1.0 / (1.0 + np.exp(-z))\n",
        "  return sigmoid(z) * (1 - sigmoid(z))\n",
        "\n",
        "\n",
        "def leaky_relu(z):\n",
        "  return z * (z > 0) + (0.01 * z) * (z <= 0)\n",
        "\n",
        "\n",
        "def leaky_relu_derivative(z):\n",
        "  return 1 * (z > 0) + 0.01 * (z <= 0)"
      ],
      "execution_count": null,
      "outputs": []
    },
    {
      "cell_type": "code",
      "metadata": {
        "id": "XKBGLU6wCXyd",
        "colab": {
          "base_uri": "https://localhost:8080/",
          "height": 796
        },
        "outputId": "a46a4087-6375-4922-f9aa-8e748d632e35"
      },
      "source": [
        "import numpy as np\n",
        "import pandas as pd\n",
        "import matplotlib.colors\n",
        "import matplotlib.pyplot as plt\n",
        "\n",
        "# Load training set.\n",
        "df = pd.read_csv(\"/content/drive/Shared drives/mc886/fashion-mnist_train.csv\") # Assuming you have this path\n",
        "y = df['label'].to_numpy()\n",
        "del df['label']\n",
        "X = df.to_numpy().astype(np.float128) # float64 and below will overflow.\n",
        "del df\n",
        "\n",
        "neural_network = NeuralNetwork([784, 900, 10], leaky_relu, \n",
        "                               leaky_relu_derivative, log_epochs=True)\n",
        "\n",
        "neural_network.standardScaler(X)\n",
        "\n",
        "X_train = X[:50000]\n",
        "X_validation = X[50000:]\n",
        "y_train = y[:50000]\n",
        "y_validation = y[50000:]\n",
        "\n",
        "neural_network.fit(X_train, y_train, X_validation, y_validation)\n",
        "\n",
        "plt.plot(list(range(1, len(neural_network.cost)+1)), neural_network.cost, color='r')\n",
        "plt.xlabel('epoch')\n",
        "plt.ylabel('loss')"
      ],
      "execution_count": null,
      "outputs": [
        {
          "output_type": "stream",
          "text": [
            "Epoch: 0 Cost: 2.587999016955467\n",
            "Epoch: 1 Cost: 2.0306516955931513\n",
            "Epoch: 2 Cost: 1.7681913102537024\n",
            "Epoch: 3 Cost: 1.6161687468810335\n",
            "Epoch: 4 Cost: 1.5165708778564762\n",
            "Epoch: 5 Cost: 1.4450071490603078\n",
            "Epoch: 6 Cost: 1.3904671566789355\n",
            "Epoch: 7 Cost: 1.3472365160216668\n",
            "Epoch: 8 Cost: 1.3115871591511556\n",
            "Epoch: 9 Cost: 1.2814429403368457\n",
            "Epoch: 10 Cost: 1.2546874414754896\n",
            "Epoch: 11 Cost: 1.2316677595600733\n",
            "Epoch: 12 Cost: 1.2111868998745525\n",
            "Epoch: 13 Cost: 1.1928005384241\n",
            "Epoch: 14 Cost: 1.1761748442676072\n",
            "Epoch: 15 Cost: 1.161218489746445\n",
            "Epoch: 16 Cost: 1.14699918294709\n",
            "Epoch: 17 Cost: 1.1337474695475924\n",
            "Epoch: 18 Cost: 1.122174569543747\n",
            "Epoch: 19 Cost: 1.1113049521319238\n",
            "Epoch: 20 Cost: 1.1006066092984108\n",
            "Epoch: 21 Cost: 1.0908168232021467\n",
            "Epoch: 22 Cost: 1.0817244254436849\n",
            "Epoch: 23 Cost: 1.0729088331823904\n",
            "Epoch: 24 Cost: 1.0647789797122473\n",
            "Epoch: 25 Cost: 1.0569354926754584\n",
            "Epoch: 26 Cost: 1.0493521588953734\n",
            "Epoch: 27 Cost: 1.0424763095611178\n",
            "Epoch: 28 Cost: 1.0358401734873246\n",
            "Epoch: 29 Cost: 1.0294048141243908\n"
          ],
          "name": "stdout"
        },
        {
          "output_type": "execute_result",
          "data": {
            "text/plain": [
              "Text(0, 0.5, 'loss')"
            ]
          },
          "metadata": {
            "tags": []
          },
          "execution_count": 8
        },
        {
          "output_type": "display_data",
          "data": {
            "image/png": "[encoded data removed]",
            "text/plain": [
              "<Figure size 432x288 with 1 Axes>"
            ]
          },
          "metadata": {
            "tags": [],
            "needs_background": "light"
          }
        }
      ]
    },
    {
      "cell_type": "code",
      "metadata": {
        "id": "40xpqwCW2XL2",
        "colab": {
          "base_uri": "https://localhost:8080/"
        },
        "outputId": "334277b9-b174-4eb2-9d96-d00a29e9cdf1"
      },
      "source": [
        "# Load test set.\n",
        "df_test = pd.read_csv(\"/content/drive/Shared drives/mc886/fashion-mnist_test.csv\") # Assuming you have this path\n",
        "\n",
        "y_test = df_test['label'].to_numpy()\n",
        "del df_test['label']\n",
        "X_test = df_test.to_numpy().astype(np.float128) # float64 and below will overflow.\n",
        "del df_test\n",
        "\n",
        "y_test_normalized = np.zeros([y_test.shape[0], 10])\n",
        "for i, target_class in enumerate(y_test):\n",
        "  y_test_normalized[i, target_class] = 1\n",
        "\n",
        "neural_network.standardScaler(X_test)\n",
        "print('Cross Entropy cost', neural_network.calculate_cost(X_test, y_test_normalized))"
      ],
      "execution_count": null,
      "outputs": [
        {
          "output_type": "stream",
          "text": [
            "Cross Entropy cost 1.0248343382463279\n"
          ],
          "name": "stdout"
        }
      ]
    },
    {
      "cell_type": "markdown",
      "metadata": {
        "id": "ZUX0AraaNH-e"
      },
      "source": [
        "> What are the conclusions? Regarding the Multinomial Logistic Regression model, does the performance improve? (2-4 paragraphs)\n",
        "\n",
        "The structure of our neural network consisting of three layers. The first (input) layer has 784 neurons representing each pixel of the image,\n",
        "the second (hidden) layer has 900 neurons and the final (output) layer has 10, representing each class of clothes. Also, each\n",
        "neuron has a bias associated with it. The output layer has this configuration so that, given an image in the input layer, \n",
        "each neuron of the output layer represents how much the NN thinks the image represents the class related to that neuron. \n",
        "To translate these neurons values to actual probabilities of an image being of a certain class, \n",
        "we use the Softmax Normalizer on each output neuron to get a prediction.\n",
        "\n",
        "This network has some changes when compared to a \"raw\" neural network. First, its weights and biases start with the He initialization.\n",
        "Also, we are using the Leaky ReLU activation function instead of the Sigmoid, although this is a parameter in the network initialization and can be changed. However, a major change is how we process the mini-batches and do the backpropagation.\n",
        "To speed up the training process, we do the backpropagation on the entire mini-batch, using a matrix-based approach.\n",
        "Finally, we are using the Cross Entropy Cost function in this network, as opposed to the Mean Squared Error. The CECost is better\n",
        "suited for a classification problem and, with it, we can better compare the results between the NN and the Multinomial Logistic\n",
        "Regressor (MLR).\n",
        "\n",
        "As with the MLR, we separate our training data using the same 10K samples each epoch to calculate the cost and visualize the NN\n",
        "improvement over time. We also run the training for 30 epochs. However, now the vectorization of the target values has to be done\n",
        "externally (in the MLR they were embedded inside the code). Either inside the NN's fit function or when calculating the cost of the test data, we now vectorize each target value 'k' to an array where the position 'k' is 1, representing that the related image has\n",
        "probability 1 of being the class 'k'. This is done to better compare results between the NN's output layer and the actual answer.\n",
        "\n",
        "Finally, when comparing with the MLR, our NN does relatively worse. Starting from a higher place of cost 2.58, the descent is quite\n",
        "large between epochs 0 through 5, with changes in a 10^-1 magnitude. After that (elbow), it starts to slow down, stopping at 1.029\n",
        "at epoch 29, fairly worse than the MLR final 0.65 cost. Also, the NN's training is approximately 10x slower than MLR's, taking much more time to process each batch and epoch. A positive side of this NN is that it does not shows signs of overfitting, with a 1.024 cost on the test data.\n"
      ]
    },
    {
      "cell_type": "markdown",
      "metadata": {
        "id": "ldSh1vtWK5Zk"
      },
      "source": [
        "3. (1 point) Apply two update rules used to optimize Neural Networks (for example, Momentum, Adagrad, Adam, RMSProp, Adadelta). For reference, see http://ruder.io/optimizing-gradient-descent."
      ]
    },
    {
      "cell_type": "code",
      "metadata": {
        "id": "ZUZ0AbMQPtat"
      },
      "source": [
        "class NeuralNetworkMomentumOpt(NeuralNetwork):\n",
        "\n",
        "  def __init__(self, layer_sizes, activation_f, activation_f_derivative, \n",
        "               learning_rate=1e-3, gamma=0.9, n_epochs=30, batch_size=1024,\n",
        "               log_epochs=False):\n",
        "    self.gamma = gamma # Momentum factor.\n",
        "    super().__init__(layer_sizes, activation_f, activation_f_derivative, \n",
        "        learning_rate=learning_rate, n_epochs=n_epochs, batch_size=batch_size, log_epochs=log_epochs)\n",
        "\n",
        "\n",
        "  def fit(self, X_train, y_train, X_validation, y_validation):\n",
        "    '''\n",
        "    `X_train`: numpy array of features to be used in training.\n",
        "    `y_train`: numpy array of targets for the given features to be used in\n",
        "    training.\n",
        "    `X_validation`: numpy array of features to be used for logging the cost at\n",
        "    each epoch for validation.\n",
        "    `y_validation`: numpy array of targets for the given features to be used for\n",
        "    logging the cost at each epoch for validation.\n",
        "    '''\n",
        "    # Vectorize y arrays.\n",
        "    y_train_vectorized = vectorize_target(y_train)\n",
        "    y_validation_vectorized = vectorize_target(y_validation)\n",
        "\n",
        "    for epoch in range(self.n_epochs):\n",
        "      # Shuffle data.\n",
        "      permutation = np.random.permutation(X_train.shape[0])\n",
        "      X_train = X_train[permutation]\n",
        "      y_train_normalized = y_train_normalized[permutation]\n",
        "\n",
        "      # Initialize gradients for the Momentum algorithm. \n",
        "      gradient_w = [np.zeros(w.shape) for w in self.weights]\n",
        "      gradient_b = [np.zeros(b.shape) for b in self.biases]\n",
        "\n",
        "      # Mini batch gradient descent\n",
        "      for i in range(0, X_train.shape[0], self.batch_size):\n",
        "        mini_X = X_train[i:i+self.batch_size]\n",
        "        mini_y = y_train_normalized[i:i+self.batch_size]\n",
        "\n",
        "        gradient_w, gradient_b = \\\n",
        "            self.process_mini_batch(mini_X, mini_y, gradient_w, gradient_b)\n",
        "\n",
        "      if self.log_epochs:\n",
        "        # Calculate cost.\n",
        "        CECost = self.calculate_cost(X_validation, y_validation_normalized)\n",
        "        print('Epoch:', epoch, 'Cost:', CECost)\n",
        "        self.cost = np.append(self.cost, CECost)\n",
        "\n",
        "\n",
        "  def process_mini_batch(self, mini_X, mini_y, gradient_w_prev, gradient_b_prev):\n",
        "    '''\n",
        "    Process the given mini-batch with a matrix-based approach and returns the\n",
        "    gradients of the mini-batch to be used in the next mini-batch Momentum.\n",
        "    '''\n",
        "\n",
        "    gradient_w, gradient_b = self.backpropagation_simultaneous(mini_X.T, mini_y.T)\n",
        "\n",
        "    batch_size = mini_X.shape[0]\n",
        "\n",
        "    gradient_w = [\n",
        "        (self.learning_rate / batch_size) * gw + self.gamma * prevgw\n",
        "        for gw, prevgw in zip(gradient_w, gradient_w_prev)\n",
        "    ]\n",
        "    gradient_b = [\n",
        "        (self.learning_rate / batch_size) * gb + self.gamma * prevgb\n",
        "        for gb, prevgb in zip(gradient_b, gradient_b_prev)\n",
        "    ]\n",
        "\n",
        "    self.weights = [w - gradw for w, gradw in zip(self.weights, gradient_w)]\n",
        "    self.biases = [b - gradb for b, gradb in zip(self.biases, gradient_b)]\n",
        "\n",
        "    return gradient_w, gradient_b"
      ],
      "execution_count": null,
      "outputs": []
    },
    {
      "cell_type": "code",
      "metadata": {
        "id": "mg7aNkl_LG4P",
        "colab": {
          "base_uri": "https://localhost:8080/"
        },
        "outputId": "d6954b20-b651-4526-c8a3-edb09163133e"
      },
      "source": [
        "import numpy as np\n",
        "import pandas as pd\n",
        "import matplotlib.colors\n",
        "import matplotlib.pyplot as plt\n",
        "\n",
        "# Load training set.\n",
        "df = pd.read_csv(\"/content/drive/Shared drives/mc886/fashion-mnist_train.csv\") # Assuming you have this path\n",
        "y = df['label'].to_numpy()\n",
        "del df['label']\n",
        "X = df.to_numpy().astype(np.float128) # float64 and below will overflow.\n",
        "del df\n",
        "\n",
        "neural_network = NeuralNetworkMomentumOpt([784, 900, 10], leaky_relu, \n",
        "                               leaky_relu_derivative, log_epochs=True)\n",
        "\n",
        "neural_network.standardScaler(X)\n",
        "\n",
        "X_train = X[:50000]\n",
        "X_validation = X[50000:]\n",
        "y_train = y[:50000]\n",
        "y_validation = y[50000:]\n",
        "\n",
        "neural_network.fit(X_train, y_train, X_validation, y_validation)"
      ],
      "execution_count": null,
      "outputs": [
        {
          "output_type": "stream",
          "text": [
            "Epoch: 0 Cost: 1.2916293867665254\n",
            "Epoch: 1 Cost: 1.1423004637049112\n",
            "Epoch: 2 Cost: 1.0658410301501098\n",
            "Epoch: 3 Cost: 1.013978109128626\n",
            "Epoch: 4 Cost: 0.9744653657622483\n",
            "Epoch: 5 Cost: 0.9468802921619089\n",
            "Epoch: 6 Cost: 0.9223426316365249\n",
            "Epoch: 7 Cost: 0.9012728052533097\n",
            "Epoch: 8 Cost: 0.8834133465814346\n",
            "Epoch: 9 Cost: 0.8702698075353344\n",
            "Epoch: 10 Cost: 0.8568242141073666\n",
            "Epoch: 11 Cost: 0.8451132243815007\n",
            "Epoch: 12 Cost: 0.8363683274879741\n",
            "Epoch: 13 Cost: 0.8258402559753455\n",
            "Epoch: 14 Cost: 0.8203905916430861\n",
            "Epoch: 15 Cost: 0.81041449254629\n",
            "Epoch: 16 Cost: 0.8037535849450537\n",
            "Epoch: 17 Cost: 0.7969921350146428\n",
            "Epoch: 18 Cost: 0.7914468980935071\n",
            "Epoch: 19 Cost: 0.7867213657547766\n",
            "Epoch: 20 Cost: 0.7807060229583486\n",
            "Epoch: 21 Cost: 0.7766027037322524\n",
            "Epoch: 22 Cost: 0.7710607086543139\n",
            "Epoch: 23 Cost: 0.7676357000199951\n",
            "Epoch: 24 Cost: 0.7642628337835524\n",
            "Epoch: 25 Cost: 0.7583294977712816\n",
            "Epoch: 26 Cost: 0.7550878564716063\n",
            "Epoch: 27 Cost: 0.7511792216004584\n",
            "Epoch: 28 Cost: 0.7479289489386414\n",
            "Epoch: 29 Cost: 0.7442934922294762\n"
          ],
          "name": "stdout"
        }
      ]
    },
    {
      "cell_type": "code",
      "metadata": {
        "id": "xWdABABhOaig",
        "colab": {
          "base_uri": "https://localhost:8080/",
          "height": 296
        },
        "outputId": "491d0941-1e26-4e5c-ff49-a13ff04cb642"
      },
      "source": [
        "plt.plot(list(range(1, len(neural_network.cost)+1)), neural_network.cost, color='r')\n",
        "plt.xlabel('epoch')\n",
        "plt.ylabel('loss')"
      ],
      "execution_count": null,
      "outputs": [
        {
          "output_type": "execute_result",
          "data": {
            "text/plain": [
              "Text(0, 0.5, 'loss')"
            ]
          },
          "metadata": {
            "tags": []
          },
          "execution_count": 13
        },
        {
          "output_type": "display_data",
          "data": {
            "image/png": "[encoded data removed]",
            "text/plain": [
              "<Figure size 432x288 with 1 Axes>"
            ]
          },
          "metadata": {
            "tags": [],
            "needs_background": "light"
          }
        }
      ]
    },
    {
      "cell_type": "code",
      "metadata": {
        "id": "-TTBrPZtOxSU",
        "colab": {
          "base_uri": "https://localhost:8080/"
        },
        "outputId": "10d88873-fcd4-4a81-d7b8-830cf79735d2"
      },
      "source": [
        "# Load test set.\n",
        "df_test = pd.read_csv(\"/content/drive/Shared drives/mc886/fashion-mnist_test.csv\") # Assuming you have this path\n",
        "\n",
        "y_test = df_test['label'].to_numpy()\n",
        "del df_test['label']\n",
        "X_test = df_test.to_numpy().astype(np.float128) # float64 and below will overflow.\n",
        "del df_test\n",
        "\n",
        "y_test_normalized = np.zeros([y_test.shape[0], 10])\n",
        "for i, target_class in enumerate(y_test):\n",
        "  y_test_normalized[i, target_class] = 1\n",
        "\n",
        "neural_network.standardScaler(X_test)\n",
        "print('Cross Entropy cost', neural_network.calculate_cost(X_test, y_test_normalized))"
      ],
      "execution_count": null,
      "outputs": [
        {
          "output_type": "stream",
          "text": [
            "Cross Entropy cost 0.7308694340837709\n"
          ],
          "name": "stdout"
        }
      ]
    },
    {
      "cell_type": "code",
      "metadata": {
        "id": "0TLLLEpQ9UQz"
      },
      "source": [
        "class NeuralNetworkNAGOpt(NeuralNetworkMomentumOpt):\n",
        "\n",
        "  def process_mini_batch(self, mini_X, mini_y, gradient_w_prev, gradient_b_prev):\n",
        "    '''\n",
        "    Process the given mini-batch with a matrix-based approach and returns the\n",
        "    gradients of the mini-batch to be used in the next mini-batch NAG.\n",
        "    '''\n",
        "\n",
        "    # Save current weights and biases so we can load them back later.\n",
        "    weights = np.copy(self.weights)\n",
        "    biases = np.copy(self.biases)\n",
        "\n",
        "    # Change weights and biases for the NAG algotithm\n",
        "    self.weights = [\n",
        "        w - self.gamma * gw for w, gw in zip(self.weights,gradient_w_prev)\n",
        "    ]\n",
        "    self.biases = [\n",
        "        b - self.gamma * gb for b, gb in zip(self.biases, gradient_b_prev)\n",
        "    ]\n",
        "\n",
        "    # Executes backpropagation using changed weights and biases.\n",
        "    gradient_w, gradient_b = \\\n",
        "        self.backpropagation_simultaneous(mini_X.T, mini_y.T)\n",
        "\n",
        "    batch_size = mini_X.shape[0]\n",
        "\n",
        "    gradient_w = [\n",
        "        (self.learning_rate / batch_size) * gw + self.gamma * prevgw\n",
        "        for gw, prevgw in zip(gradient_w, gradient_w_prev)\n",
        "    ]\n",
        "    gradient_b = [\n",
        "        (self.learning_rate / batch_size)*  gb + self.gamma * prevgb\n",
        "        for gb, prevgb in zip(gradient_b, gradient_b_prev)\n",
        "    ]\n",
        "\n",
        "    # Load back the weights and biases.\n",
        "    self.weights = weights\n",
        "    self.biases = biases\n",
        "    \n",
        "    self.weights = [w - gradw for w, gradw in zip(self.weights, gradient_w)]\n",
        "    self.biases = [b - gradb for b, gradb in zip(self.biases, gradient_b)]\n",
        "\n",
        "    return gradient_w, gradient_b"
      ],
      "execution_count": null,
      "outputs": []
    },
    {
      "cell_type": "code",
      "metadata": {
        "id": "ivmhQA82SJJE",
        "colab": {
          "base_uri": "https://localhost:8080/"
        },
        "outputId": "c0956327-d0f9-49b3-949e-ab2a5d293d6c"
      },
      "source": [
        "import numpy as np\n",
        "import pandas as pd\n",
        "import matplotlib.colors\n",
        "import matplotlib.pyplot as plt\n",
        "\n",
        "# Load training set.\n",
        "df = pd.read_csv(\"/content/drive/Shared drives/mc886/fashion-mnist_train.csv\") # Assuming you have this path\n",
        "y = df['label'].to_numpy()\n",
        "del df['label']\n",
        "X = df.to_numpy().astype(np.float128) # float64 and below will overflow.\n",
        "del df\n",
        "\n",
        "neural_network = NeuralNetworkNAGOpt([784, 900, 10], leaky_relu, \n",
        "                               leaky_relu_derivative, log_epochs=True)\n",
        "\n",
        "neural_network.standardScaler(X)\n",
        "\n",
        "X_train = X[:50000]\n",
        "X_validation = X[50000:]\n",
        "y_train = y[:50000]\n",
        "y_validation = y[50000:]\n",
        "\n",
        "neural_network.fit(X_train, y_train, X_validation, y_validation)"
      ],
      "execution_count": null,
      "outputs": [
        {
          "output_type": "stream",
          "text": [
            "Epoch: 0 Cost: 1.2925429061735443\n",
            "Epoch: 1 Cost: 1.1465984895394405\n",
            "Epoch: 2 Cost: 1.068895761188559\n",
            "Epoch: 3 Cost: 1.015897472380631\n",
            "Epoch: 4 Cost: 0.9767946029509263\n",
            "Epoch: 5 Cost: 0.9464311232556156\n",
            "Epoch: 6 Cost: 0.9234022123401666\n",
            "Epoch: 7 Cost: 0.9026361833890123\n",
            "Epoch: 8 Cost: 0.8864175237254931\n",
            "Epoch: 9 Cost: 0.8726474015674234\n",
            "Epoch: 10 Cost: 0.858109487769395\n",
            "Epoch: 11 Cost: 0.8480952218856661\n",
            "Epoch: 12 Cost: 0.8377267151010946\n",
            "Epoch: 13 Cost: 0.8289853594886872\n",
            "Epoch: 14 Cost: 0.8210041084247809\n",
            "Epoch: 15 Cost: 0.813391681124829\n",
            "Epoch: 16 Cost: 0.8062495214625688\n",
            "Epoch: 17 Cost: 0.8007753925331784\n",
            "Epoch: 18 Cost: 0.794682490272821\n",
            "Epoch: 19 Cost: 0.7886226626644175\n",
            "Epoch: 20 Cost: 0.7834368747556363\n",
            "Epoch: 21 Cost: 0.7782572433135083\n",
            "Epoch: 22 Cost: 0.775065000364802\n",
            "Epoch: 23 Cost: 0.7705281523300026\n",
            "Epoch: 24 Cost: 0.7658549957714508\n",
            "Epoch: 25 Cost: 0.7635005717858655\n",
            "Epoch: 26 Cost: 0.7590447040636481\n",
            "Epoch: 27 Cost: 0.7549719367318961\n",
            "Epoch: 28 Cost: 0.7518501307908604\n",
            "Epoch: 29 Cost: 0.7486766478813058\n"
          ],
          "name": "stdout"
        }
      ]
    },
    {
      "cell_type": "code",
      "metadata": {
        "id": "EEtXGTHvhABF",
        "colab": {
          "base_uri": "https://localhost:8080/",
          "height": 296
        },
        "outputId": "28df390c-cc1b-48b7-9473-1c6971f67871"
      },
      "source": [
        "plt.plot(list(range(1, len(neural_network.cost)+1)), neural_network.cost, color='r')\n",
        "plt.xlabel('epoch')\n",
        "plt.ylabel('loss')"
      ],
      "execution_count": null,
      "outputs": [
        {
          "output_type": "execute_result",
          "data": {
            "text/plain": [
              "Text(0, 0.5, 'loss')"
            ]
          },
          "metadata": {
            "tags": []
          },
          "execution_count": 22
        },
        {
          "output_type": "display_data",
          "data": {
            "image/png": "[encoded data removed]",
            "text/plain": [
              "<Figure size 432x288 with 1 Axes>"
            ]
          },
          "metadata": {
            "tags": [],
            "needs_background": "light"
          }
        }
      ]
    },
    {
      "cell_type": "markdown",
      "metadata": {
        "id": "rBLKtosaLaCw"
      },
      "source": [
        " > What are the conclusions? Does the performance improve? (1-2 paragraphs)\n",
        "\n",
        "\n",
        "In this question, we chose to implement the Momentum (MM) and the Nesterov accelerated gradient (NAG) as the gradient descent optimizers. The Momentum algorithm calculates its current gradient adding up a fraction of the previous one. This fraction is defined by the \"gamma\" value. This accumulation is supposed to have an effect of an acceleration of the gradient descent. We achieved better results than our initial Neural Network, even if taking into account that this version started at a lower cost value. Between epochs 0 and 1 we had a cost descent of magnitude 10^-1. In the consequent epochs, the descent was fairly \"smooth\", making this network take more time to reach the \"elbow\", but still maintaining a stable descent.\n",
        "The NAG algorithm also did better than our initial Neural Network, with very similar results to Momentum. The NAG algorithm tries to be clever than Momentum by looking ahead at the next position of the parameters when calculating the gradients. This prescience makes it follow, in theory, a better path than Momentum when updating the weights. Our model with the NAG optimization was able to sligtly surpass our model with the Momentum optimization at epoch 5. At epoch 0, Momentum model had a cost of 1.291 while NAG model had a cost of 1.292. At epoch 5, Momentum model had a cost of 0.9468 while NAG model surpassed it with a cost of 0.9464. After epoch 6, however, Momentum took the lead once again, proving to be superior in this instance."
      ]
    },
    {
      "cell_type": "markdown",
      "metadata": {
        "id": "ADxPBRhuK_Vq"
      },
      "source": [
        "4. (1 point) Pick **your best model** and plot the confusion matrix in the **test set**. You can use scikit-learn libraries.\n"
      ]
    },
    {
      "cell_type": "code",
      "metadata": {
        "id": "RSZ1pLItNVbU",
        "colab": {
          "base_uri": "https://localhost:8080/",
          "height": 505
        },
        "outputId": "9e23c2c7-fcd6-48cb-b327-c52336503727"
      },
      "source": [
        "from sklearn.metrics import confusion_matrix\n",
        "import seaborn as sn\n",
        "\n",
        "# Load test set.\n",
        "df_test = pd.read_csv(\"/content/drive/Shared drives/mc886/fashion-mnist_test.csv\") # Assuming you have this path\n",
        "\n",
        "y_test = df_test['label'].to_numpy()\n",
        "del df_test['label']\n",
        "X_test = df_test.to_numpy().astype(np.float128) # float64 and below will overflow.\n",
        "del df_test\n",
        "\n",
        "regressor.standardScaler(X_test)\n",
        "\n",
        "y_probabilities, y_predicted = regressor.predict(X_test)\n",
        "\n",
        "accuracy = np.trace(matrix) / np.sum(matrix).astype('float')\n",
        "\n",
        "print('Accuracy:', accuracy)\n",
        "\n",
        "matrix = confusion_matrix(y_test, y_predicted)\n",
        "\n",
        "df_cm = pd.DataFrame(matrix, range(10), range(10))\n",
        "plt.figure(figsize=(12, 8))\n",
        "sn.set(font_scale=1.2) # for label size\n",
        "sn.heatmap(df_cm, annot=True, annot_kws={\"size\": 12}, fmt='g', cmap='YlGnBu') # font size\n",
        "\n",
        "plt.show()"
      ],
      "execution_count": null,
      "outputs": [
        {
          "output_type": "stream",
          "text": [
            "Accuracy: 0.8239\n"
          ],
          "name": "stdout"
        },
        {
          "output_type": "display_data",
          "data": {
            "image/png": "[encoded data removed]",
            "text/plain": [
              "<Figure size 864x576 with 2 Axes>"
            ]
          },
          "metadata": {
            "tags": []
          }
        }
      ]
    },
    {
      "cell_type": "markdown",
      "metadata": {
        "id": "vbGOQzcsNSOm"
      },
      "source": [
        "> What are the conclusions? (1-2 paragraphs)\n",
        "\n",
        "\n",
        "Our model achieved an accuracy of 0.834. By looking at the confusion matrix, we can see that the main diagonal has numbers somewhat close to 1000 (which is the total number of samples for each class in this set), meaning that our model did a good job at classifying the pictures correctly. In particular, it did a good job at classyfing trousers (class 1), which makes sense since there are no other classes of clothes similar to trousers in the dataset.\n",
        "\n",
        "There are some classes, however, that got our model confused. These are classes of clothes that look very similar to each other, like the class 0 (t-shirt/top) and class 6 (shirt), where our model predicted 162 shirts as being t-shirt/top. It makes sense that our model has trouble telling them apart, since they look very similar. Actually, class 6 in general got our model very confused, since it predicted correctly only 551 out of 1000."
      ]
    }
  ]
}